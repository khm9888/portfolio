{
 "cells": [
  {
   "cell_type": "markdown",
   "id": "9c9b9802",
   "metadata": {},
   "source": [
    "# 자동차 클래스와 객체\n",
    "* 3가지 속성과 3가지 기능이 있는 자동차 객체를 찍어내기 위한 틀을 만든다.\n",
    "* 속성 : brand, model, color     \n",
    "* 기능 : turn_on, turn_off, drive"
   ]
  },
  {
   "cell_type": "markdown",
   "id": "be6ddb48",
   "metadata": {},
   "source": [
    "## 자동차클래스 만들기"
   ]
  },
  {
   "cell_type": "code",
   "execution_count": 1,
   "id": "458ba65c",
   "metadata": {},
   "outputs": [],
   "source": [
    "class Car:\n",
    "    def __init__(self,b,m,c):\n",
    "        self.brand = b\n",
    "        self.model = m\n",
    "        self.color = c\n",
    "\n",
    "        print(self.brand, self.model, self.color,\"출고\")\n",
    "    def turn_on(self):\n",
    "        print(self.brand, \"시동을 겁니다.\")\n",
    "    \n",
    "    def turn_off(self):\n",
    "        print(self.brand, \"시동을 끕니다.\")\n",
    "        \n",
    "    def drive(self):\n",
    "        print(self.brand, \"주행중입니다.\")"
   ]
  },
  {
   "cell_type": "markdown",
   "id": "72d2f724",
   "metadata": {},
   "source": [
    "## 객체 생성하기\n",
    "* 객체명 = 클래스명(매개변수1,매개변수2,...)"
   ]
  },
  {
   "cell_type": "code",
   "execution_count": 3,
   "id": "5ea7c98d",
   "metadata": {},
   "outputs": [
    {
     "name": "stdout",
     "output_type": "stream",
     "text": [
      "현대 소나타 화이트 출고\n",
      "기아 모닝 레드 출고\n"
     ]
    }
   ],
   "source": [
    "car1 = Car(\"현대\",\"소나타\",\"화이트\")\n",
    "car2 = Car(\"기아\",\"모닝\",\"레드\")"
   ]
  },
  {
   "cell_type": "markdown",
   "id": "df6a6b9a",
   "metadata": {},
   "source": [
    "## 메소드 호출하기\n",
    "* 객체명.메소드명(매개변수1,매개변수2,...)"
   ]
  },
  {
   "cell_type": "code",
   "execution_count": 5,
   "id": "5e6e1943",
   "metadata": {},
   "outputs": [
    {
     "name": "stdout",
     "output_type": "stream",
     "text": [
      "현대 시동을 겁니다.\n",
      "현대 시동을 끕니다.\n"
     ]
    }
   ],
   "source": [
    "car1.turn_on()\n",
    "car1.turn_off()"
   ]
  },
  {
   "cell_type": "markdown",
   "id": "5e5523ec",
   "metadata": {},
   "source": [
    "# 객체의 메소드 목록 조회\n",
    "* dir(객체)"
   ]
  },
  {
   "cell_type": "code",
   "execution_count": 6,
   "id": "f844e27e",
   "metadata": {},
   "outputs": [
    {
     "data": {
      "text/plain": [
       "['__class__',\n",
       " '__delattr__',\n",
       " '__dict__',\n",
       " '__dir__',\n",
       " '__doc__',\n",
       " '__eq__',\n",
       " '__format__',\n",
       " '__ge__',\n",
       " '__getattribute__',\n",
       " '__gt__',\n",
       " '__hash__',\n",
       " '__init__',\n",
       " '__init_subclass__',\n",
       " '__le__',\n",
       " '__lt__',\n",
       " '__module__',\n",
       " '__ne__',\n",
       " '__new__',\n",
       " '__reduce__',\n",
       " '__reduce_ex__',\n",
       " '__repr__',\n",
       " '__setattr__',\n",
       " '__sizeof__',\n",
       " '__str__',\n",
       " '__subclasshook__',\n",
       " '__weakref__',\n",
       " 'drive',\n",
       " 'turn_off',\n",
       " 'turn_on']"
      ]
     },
     "execution_count": 6,
     "metadata": {},
     "output_type": "execute_result"
    }
   ],
   "source": [
    "dir(Car)"
   ]
  },
  {
   "cell_type": "markdown",
   "id": "ddfe1c17",
   "metadata": {},
   "source": [
    "# 함수, 메소드 사용법\n",
    "* help(함수명)"
   ]
  },
  {
   "cell_type": "code",
   "execution_count": 11,
   "id": "6e61638a",
   "metadata": {},
   "outputs": [
    {
     "name": "stdout",
     "output_type": "stream",
     "text": [
      "Help on built-in function sum in module builtins:\n",
      "\n",
      "sum(iterable, /, start=0)\n",
      "    Return the sum of a 'start' value (default: 0) plus an iterable of numbers\n",
      "    \n",
      "    When the iterable is empty, return the start value.\n",
      "    This function is intended specifically for use with numeric values and may\n",
      "    reject non-numeric types.\n",
      "\n"
     ]
    }
   ],
   "source": [
    "help(sum)"
   ]
  },
  {
   "cell_type": "code",
   "execution_count": null,
   "id": "b84972f2",
   "metadata": {
    "scrolled": true
   },
   "outputs": [],
   "source": []
  }
 ],
 "metadata": {
  "kernelspec": {
   "display_name": "Python 3",
   "language": "python",
   "name": "python3"
  },
  "language_info": {
   "codemirror_mode": {
    "name": "ipython",
    "version": 3
   },
   "file_extension": ".py",
   "mimetype": "text/x-python",
   "name": "python",
   "nbconvert_exporter": "python",
   "pygments_lexer": "ipython3",
   "version": "3.10.11"
  },
  "toc": {
   "base_numbering": 1,
   "nav_menu": {},
   "number_sections": true,
   "sideBar": true,
   "skip_h1_title": false,
   "title_cell": "Table of Contents",
   "title_sidebar": "Contents",
   "toc_cell": false,
   "toc_position": {
    "height": "calc(100% - 180px)",
    "left": "10px",
    "top": "150px",
    "width": "245.76px"
   },
   "toc_section_display": true,
   "toc_window_display": true
  }
 },
 "nbformat": 4,
 "nbformat_minor": 5
}
