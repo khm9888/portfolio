{
 "cells": [
  {
   "cell_type": "markdown",
   "id": "c5c857cd",
   "metadata": {},
   "source": [
    "# 문자열 인덱싱"
   ]
  },
  {
   "cell_type": "markdown",
   "id": "02781df8",
   "metadata": {},
   "source": [
    "* 양수 인덱스 사용하기"
   ]
  },
  {
   "cell_type": "code",
   "execution_count": null,
   "id": "16e5fde3",
   "metadata": {},
   "outputs": [],
   "source": [
    "a = 'Hello World'\n",
    "\n",
    "# 'H' 출력하기\n",
    "\n",
    "# 'W' 출력하기\n",
    "\n",
    "# 'd' 출력하기"
   ]
  },
  {
   "cell_type": "markdown",
   "id": "560906d8",
   "metadata": {},
   "source": [
    "* 음수 인덱스 사용하기"
   ]
  },
  {
   "cell_type": "code",
   "execution_count": null,
   "id": "94c6cdb7",
   "metadata": {
    "scrolled": true
   },
   "outputs": [],
   "source": [
    "a = 'Hello World'\n",
    "\n",
    "# 'H' 출력하기\n",
    "\n",
    "# 'W' 출력하기\n",
    "\n",
    "# 'd' 출력하기"
   ]
  },
  {
   "cell_type": "markdown",
   "id": "304bb09f",
   "metadata": {},
   "source": [
    "* 범위 밖의 인덱스를 사용하면?"
   ]
  },
  {
   "cell_type": "code",
   "execution_count": null,
   "id": "eb1c23b8",
   "metadata": {
    "scrolled": true
   },
   "outputs": [],
   "source": [
    "a = 'Hello World'"
   ]
  },
  {
   "cell_type": "code",
   "execution_count": null,
   "id": "859ae4b2",
   "metadata": {
    "scrolled": true
   },
   "outputs": [],
   "source": [
    "a = 'Hello World'"
   ]
  },
  {
   "cell_type": "markdown",
   "id": "a1d6d6c0",
   "metadata": {},
   "source": [
    "# 문자열 슬라이싱"
   ]
  },
  {
   "cell_type": "markdown",
   "id": "d65691c1",
   "metadata": {},
   "source": [
    "* 양수 인덱스로 슬라이싱"
   ]
  },
  {
   "cell_type": "code",
   "execution_count": null,
   "id": "9922cf8e",
   "metadata": {
    "scrolled": false
   },
   "outputs": [],
   "source": [
    "a = 'Hello World'\n",
    "# 'Hello' 출력하기\n",
    "\n",
    "# 'World' 출력하기"
   ]
  },
  {
   "cell_type": "markdown",
   "id": "278d875f",
   "metadata": {},
   "source": [
    "* 음수 인덱스로 슬라이싱"
   ]
  },
  {
   "cell_type": "code",
   "execution_count": null,
   "id": "88e37864",
   "metadata": {
    "scrolled": false
   },
   "outputs": [],
   "source": [
    "a = 'Hello World'\n",
    "\n",
    "# 'Hello' 출력하기\n",
    "\n",
    "# 'World' 출력하기"
   ]
  },
  {
   "cell_type": "markdown",
   "id": "e0eac8e1",
   "metadata": {},
   "source": [
    "* 첫번째와 마지막 인덱스는 생략 가능"
   ]
  },
  {
   "cell_type": "code",
   "execution_count": null,
   "id": "bff053ae",
   "metadata": {},
   "outputs": [],
   "source": [
    "a = 'Hello World'\n",
    "\n",
    "# 'Hello'\n",
    "\n",
    "# 'World'\n",
    "\n",
    "# 'Hello World'"
   ]
  },
  {
   "cell_type": "markdown",
   "id": "8aa72b29",
   "metadata": {},
   "source": [
    "* 한문자씩 건너뛰어 출력하기 "
   ]
  },
  {
   "cell_type": "code",
   "execution_count": null,
   "id": "ce61d69d",
   "metadata": {
    "scrolled": true
   },
   "outputs": [],
   "source": [
    "a = 'Hello World'"
   ]
  },
  {
   "cell_type": "markdown",
   "id": "9a42c201",
   "metadata": {},
   "source": [
    "* 역순으로 출력하기     \n",
    ":간격을 마이너스(-)로 하면 역순으로 출력된다."
   ]
  },
  {
   "cell_type": "code",
   "execution_count": null,
   "id": "38c576cd",
   "metadata": {
    "scrolled": true
   },
   "outputs": [],
   "source": [
    "a = 'Hello World'"
   ]
  },
  {
   "cell_type": "markdown",
   "id": "c2004a57",
   "metadata": {},
   "source": [
    "# 문자열 함수"
   ]
  },
  {
   "cell_type": "markdown",
   "id": "1d78b281",
   "metadata": {},
   "source": [
    "## 문자열 교체하기\n",
    "* 문자열.replace(찾을문자열, 교체할문자열)"
   ]
  },
  {
   "cell_type": "code",
   "execution_count": null,
   "id": "e8d8194a",
   "metadata": {
    "scrolled": true
   },
   "outputs": [],
   "source": [
    "a = '나는 초코우유 좋아. 초코우유 최고'\n",
    "\n",
    "# '초코'-->'딸기'로 교체"
   ]
  },
  {
   "cell_type": "markdown",
   "id": "f5e2bdd9",
   "metadata": {},
   "source": [
    "## 문자의 위치 찾기\n",
    "* 문자열.find(문자)"
   ]
  },
  {
   "cell_type": "code",
   "execution_count": null,
   "id": "f3904d4c",
   "metadata": {
    "scrolled": true
   },
   "outputs": [],
   "source": [
    "a = 'Hello, Python!!!'\n",
    "\n",
    "# 'e'의 위치 찾기\n",
    "\n",
    "# 'l'의 위치 찾기"
   ]
  },
  {
   "cell_type": "markdown",
   "id": "17ac421b",
   "metadata": {},
   "source": [
    "## 소문자로 변환하기\n",
    "*문자열.lower()"
   ]
  },
  {
   "cell_type": "code",
   "execution_count": null,
   "id": "8a5e9eaf",
   "metadata": {
    "scrolled": true
   },
   "outputs": [],
   "source": [
    "a = 'Hello, Python!!!'"
   ]
  },
  {
   "cell_type": "markdown",
   "id": "4fe141b8",
   "metadata": {},
   "source": [
    "## 대문자로 변환하기\n",
    "*문자열.upper()"
   ]
  },
  {
   "cell_type": "code",
   "execution_count": null,
   "id": "06fcd426",
   "metadata": {},
   "outputs": [],
   "source": [
    "a = 'Hello, Python!!!'"
   ]
  },
  {
   "cell_type": "markdown",
   "id": "3c72721f",
   "metadata": {},
   "source": [
    "## 문자열 나누기\n",
    "*문자열.split(구분자)"
   ]
  },
  {
   "cell_type": "code",
   "execution_count": null,
   "id": "3cf7e446",
   "metadata": {},
   "outputs": [],
   "source": [
    "phone = '010-123-4567'"
   ]
  },
  {
   "cell_type": "code",
   "execution_count": null,
   "id": "56a8747f",
   "metadata": {},
   "outputs": [],
   "source": [
    "email = 'abc@naver.com'"
   ]
  },
  {
   "cell_type": "markdown",
   "id": "a521362b",
   "metadata": {},
   "source": [
    "# 연습문제\n",
    "* 사용자의 영문 이름을 입력받아 성과 이름 순서를 바꾸어서 출력하는 프로그램을 작성하세요.     \n",
    "   성과 이름은 공백으로 구분합니다."
   ]
  },
  {
   "cell_type": "code",
   "execution_count": null,
   "id": "2bdc9ec3",
   "metadata": {},
   "outputs": [],
   "source": [
    "# 사용자의 영문이름 입력받기 (성과 이름은 공백으로 구분)\n",
    "\n",
    "# 공백의 위치 찾기\n",
    "\n",
    "# 성, 이름을 슬라이싱하여 각각 변수에 담기\n",
    "\n",
    "# 성, 이름의 순서를 바꾸어 출력하기"
   ]
  }
 ],
 "metadata": {
  "kernelspec": {
   "display_name": "Python 3",
   "language": "python",
   "name": "python3"
  },
  "language_info": {
   "codemirror_mode": {
    "name": "ipython",
    "version": 3
   },
   "file_extension": ".py",
   "mimetype": "text/x-python",
   "name": "python",
   "nbconvert_exporter": "python",
   "pygments_lexer": "ipython3",
   "version": "3.8.8"
  },
  "toc": {
   "base_numbering": 1,
   "nav_menu": {},
   "number_sections": true,
   "sideBar": true,
   "skip_h1_title": false,
   "title_cell": "Table of Contents",
   "title_sidebar": "Contents",
   "toc_cell": false,
   "toc_position": {},
   "toc_section_display": true,
   "toc_window_display": true
  }
 },
 "nbformat": 4,
 "nbformat_minor": 5
}
