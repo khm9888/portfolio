{
 "cells": [
  {
   "cell_type": "markdown",
   "id": "00f4d61e",
   "metadata": {},
   "source": [
    "# 함수 정의하고 호출하기"
   ]
  },
  {
   "cell_type": "markdown",
   "id": "6f855638",
   "metadata": {},
   "source": [
    "* 자기소개 함수 정의하고 호출하기   "
   ]
  },
  {
   "cell_type": "code",
   "execution_count": null,
   "id": "a52d4673",
   "metadata": {
    "scrolled": true
   },
   "outputs": [],
   "source": [
    "## 자기소개 ##\n",
    "print('안녕하세요!')\n",
    "print('저의 이름은 파이썬입니다.')"
   ]
  },
  {
   "cell_type": "code",
   "execution_count": 2,
   "id": "f8bd2800",
   "metadata": {
    "scrolled": true
   },
   "outputs": [
    {
     "name": "stdout",
     "output_type": "stream",
     "text": [
      "안녕하세요!\n",
      "저의 이름은 파이썬입니다.\n"
     ]
    }
   ],
   "source": [
    "# 함수 정의\n",
    "def introduce():\n",
    "    print('안녕하세요!')\n",
    "    print('저의 이름은 파이썬입니다.')\n",
    "# 함수 호출\n",
    "introduce()\n"
   ]
  },
  {
   "cell_type": "markdown",
   "id": "280fdf18",
   "metadata": {},
   "source": [
    "* 함수 정의를 먼저 한 후 호출하도록 코드를 순차적으로 작성해야 한다."
   ]
  },
  {
   "cell_type": "code",
   "execution_count": 3,
   "id": "83208550",
   "metadata": {},
   "outputs": [
    {
     "ename": "NameError",
     "evalue": "name 'introduce2' is not defined",
     "output_type": "error",
     "traceback": [
      "\u001b[1;31m---------------------------------------------------------------------------\u001b[0m",
      "\u001b[1;31mNameError\u001b[0m                                 Traceback (most recent call last)",
      "\u001b[1;32md:\\programming\\pythondata\\06-1. 함수만들기_실습.ipynb 셀 6\u001b[0m line \u001b[0;36m2\n\u001b[0;32m      <a href='vscode-notebook-cell:/d%3A/programming/pythondata/06-1.%20%ED%95%A8%EC%88%98%EB%A7%8C%EB%93%A4%EA%B8%B0_%EC%8B%A4%EC%8A%B5.ipynb#W5sZmlsZQ%3D%3D?line=0'>1</a>\u001b[0m \u001b[39m# 함수 호출\u001b[39;00m\n\u001b[1;32m----> <a href='vscode-notebook-cell:/d%3A/programming/pythondata/06-1.%20%ED%95%A8%EC%88%98%EB%A7%8C%EB%93%A4%EA%B8%B0_%EC%8B%A4%EC%8A%B5.ipynb#W5sZmlsZQ%3D%3D?line=1'>2</a>\u001b[0m introduce2()\n\u001b[0;32m      <a href='vscode-notebook-cell:/d%3A/programming/pythondata/06-1.%20%ED%95%A8%EC%88%98%EB%A7%8C%EB%93%A4%EA%B8%B0_%EC%8B%A4%EC%8A%B5.ipynb#W5sZmlsZQ%3D%3D?line=2'>3</a>\u001b[0m \u001b[39m# 함수 정의 \u001b[39;00m\n\u001b[0;32m      <a href='vscode-notebook-cell:/d%3A/programming/pythondata/06-1.%20%ED%95%A8%EC%88%98%EB%A7%8C%EB%93%A4%EA%B8%B0_%EC%8B%A4%EC%8A%B5.ipynb#W5sZmlsZQ%3D%3D?line=3'>4</a>\u001b[0m \u001b[39mdef\u001b[39;00m \u001b[39mintroduce2\u001b[39m():\n",
      "\u001b[1;31mNameError\u001b[0m: name 'introduce2' is not defined"
     ]
    }
   ],
   "source": [
    "# 함수 호출\n",
    "introduce2()\n",
    "# 함수 정의 \n",
    "def introduce2():\n",
    "    print('안녕하세요!')\n",
    "    print('저의 이름은 파이썬입니다.')\n",
    "    \n",
    "# 코드는 위에서부터 아래로 순차적으로 실행된다.\n",
    "# 함수를 호출하는 시점에 함수가 정의되어 있지 않으면 에러 발생"
   ]
  },
  {
   "cell_type": "markdown",
   "id": "20d9ed67",
   "metadata": {},
   "source": [
    "# 매개변수 전달하기"
   ]
  },
  {
   "cell_type": "code",
   "execution_count": null,
   "id": "9750a904",
   "metadata": {},
   "outputs": [],
   "source": [
    "## 자기소개 ##\n",
    "name='홍길동'\n",
    "print('안녕하세요!')\n",
    "print('저의 이름은, '+name+'입니다.')"
   ]
  },
  {
   "cell_type": "markdown",
   "id": "715cbcb9",
   "metadata": {},
   "source": [
    "* 매개변수 1개 전달하기"
   ]
  },
  {
   "cell_type": "code",
   "execution_count": 6,
   "id": "eb609789",
   "metadata": {},
   "outputs": [
    {
     "name": "stdout",
     "output_type": "stream",
     "text": [
      "안녕하세요!\n",
      "저의 이름은, 김찬우입니다.\n"
     ]
    }
   ],
   "source": [
    "def intro3(name):\n",
    "    print('안녕하세요!')\n",
    "    print('저의 이름은, '+name+'입니다.')\n",
    "\n",
    "intro3(\"김찬우\")"
   ]
  },
  {
   "cell_type": "markdown",
   "id": "f9be0261",
   "metadata": {},
   "source": [
    "* 매개변수 여러개 전달하기"
   ]
  },
  {
   "cell_type": "code",
   "execution_count": null,
   "id": "32d6c5ad",
   "metadata": {},
   "outputs": [],
   "source": [
    "## 자기소개 ##\n",
    "name='파이썬'\n",
    "age = 20\n",
    "print('안녕하세요!')\n",
    "print('저의 이름은, '+name+'입니다.')\n",
    "print('나이는, '+str(age)+'살입니다.')"
   ]
  },
  {
   "cell_type": "code",
   "execution_count": 7,
   "id": "57d7b56d",
   "metadata": {},
   "outputs": [
    {
     "name": "stdout",
     "output_type": "stream",
     "text": [
      "안녕하세요!\n",
      "저의 이름은, michael입니다.\n",
      "나이는, 27살입니다.\n"
     ]
    }
   ],
   "source": [
    "def intro4(name,age):\n",
    "    ## 자기소개 ##\n",
    "    # name='파이썬'\n",
    "    # age = 20\n",
    "    print('안녕하세요!')\n",
    "    print('저의 이름은, '+name+'입니다.')\n",
    "    print('나이는, '+str(age)+'살입니다.')\n",
    "\n",
    "intro4(\"michael\",27)"
   ]
  },
  {
   "cell_type": "markdown",
   "id": "d01c40f2",
   "metadata": {},
   "source": [
    "# 연습문제\n",
    "* 이름과 나이를 입력받아 생일축하 메시지를 출력하는 함수를 만들고 호출하세요.\n",
    "* 생일문구 : ooo님의 oo번째 생일을 축하합니다!!"
   ]
  },
  {
   "cell_type": "code",
   "execution_count": 8,
   "id": "15896aa2",
   "metadata": {},
   "outputs": [
    {
     "name": "stdout",
     "output_type": "stream",
     "text": [
      "축하합니다. 형식님의 10번째 생일을 축하합니다.\n"
     ]
    }
   ],
   "source": [
    "def celebrate(name,age):\n",
    "    print(f\"축하합니다. {name}님의 {age}번째 생일을 축하합니다.\")\n",
    "    \n",
    "celebrate(\"형식\",10)"
   ]
  }
 ],
 "metadata": {
  "kernelspec": {
   "display_name": "Python 3",
   "language": "python",
   "name": "python3"
  },
  "language_info": {
   "codemirror_mode": {
    "name": "ipython",
    "version": 3
   },
   "file_extension": ".py",
   "mimetype": "text/x-python",
   "name": "python",
   "nbconvert_exporter": "python",
   "pygments_lexer": "ipython3",
   "version": "3.10.11"
  },
  "toc": {
   "base_numbering": 1,
   "nav_menu": {},
   "number_sections": true,
   "sideBar": true,
   "skip_h1_title": false,
   "title_cell": "Table of Contents",
   "title_sidebar": "Contents",
   "toc_cell": false,
   "toc_position": {},
   "toc_section_display": true,
   "toc_window_display": true
  }
 },
 "nbformat": 4,
 "nbformat_minor": 5
}
