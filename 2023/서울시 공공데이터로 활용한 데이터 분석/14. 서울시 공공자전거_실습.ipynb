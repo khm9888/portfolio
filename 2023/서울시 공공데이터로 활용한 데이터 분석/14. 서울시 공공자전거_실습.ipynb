{
 "cells": [
  {
   "cell_type": "markdown",
   "id": "4df8528f",
   "metadata": {},
   "source": [
    "* 데이터 수집      \n",
    "https://data.seoul.go.kr/dataList/5/literacyView.do"
   ]
  },
  {
   "cell_type": "code",
   "execution_count": 4,
   "id": "53914b7c",
   "metadata": {},
   "outputs": [],
   "source": [
    "import pandas as pd"
   ]
  },
  {
   "cell_type": "code",
   "execution_count": 5,
   "id": "81d0684a",
   "metadata": {},
   "outputs": [],
   "source": [
    "# 그래프를 노트북 안에 그리기 위해 설정\n",
    "%matplotlib inline\n",
    "\n",
    "# 필요한 패키지와 라이브러리 가져온다.\n",
    "import matplotlib as mpl\n",
    "import matplotlib.pyplot as plt\n",
    "import matplotlib.font_manager as fm\n",
    "\n",
    "# 그래프에서 마이너스 폰트 깨지는 문제에 대한 대처\n",
    "mpl.rcParams['axes.unicode_minus'] = False\n",
    "\n",
    "# 폰트 지정하기\n",
    "plt.rcParams['font.family'] = 'gulim'"
   ]
  },
  {
   "cell_type": "markdown",
   "id": "ca7b1f87",
   "metadata": {},
   "source": [
    "# 데이터 확인 및 전처리"
   ]
  },
  {
   "cell_type": "markdown",
   "id": "834e2e7f",
   "metadata": {},
   "source": [
    "## 2021년 공공자전거 대여이력 정보"
   ]
  },
  {
   "cell_type": "markdown",
   "id": "30296105",
   "metadata": {},
   "source": [
    "### 데이터프레임 생성/확인"
   ]
  },
  {
   "cell_type": "code",
   "execution_count": 8,
   "id": "7b4fbe0f",
   "metadata": {
    "scrolled": true
   },
   "outputs": [],
   "source": [
    "df1 = pd.read_csv('../data/공공자전거 대여이력 정보_2021.01.csv', encoding='cp949', low_memory=False)\n",
    "df2 = pd.read_csv('../data/공공자전거 대여이력 정보_2021.02.csv', encoding='cp949', low_memory=False)\n",
    "df3 = pd.read_csv('../data/공공자전거 대여이력 정보_2021.03.csv', encoding='cp949', low_memory=False)\n",
    "df4 = pd.read_csv('../data/공공자전거 대여이력 정보_2021.04.csv', encoding='cp949', low_memory=False)\n",
    "df5 = pd.read_csv('../data/공공자전거 대여이력 정보_2021.05.csv', encoding='cp949', low_memory=False)\n",
    "df6 = pd.read_csv('../data/공공자전거 대여이력 정보_2021.06.csv', encoding='cp949', low_memory=False)"
   ]
  },
  {
   "cell_type": "code",
   "execution_count": null,
   "id": "175ffcfa",
   "metadata": {},
   "outputs": [
    {
     "data": {
      "text/html": [
       "<div>\n",
       "<style scoped>\n",
       "    .dataframe tbody tr th:only-of-type {\n",
       "        vertical-align: middle;\n",
       "    }\n",
       "\n",
       "    .dataframe tbody tr th {\n",
       "        vertical-align: top;\n",
       "    }\n",
       "\n",
       "    .dataframe thead th {\n",
       "        text-align: right;\n",
       "    }\n",
       "</style>\n",
       "<table border=\"1\" class=\"dataframe\">\n",
       "  <thead>\n",
       "    <tr style=\"text-align: right;\">\n",
       "      <th></th>\n",
       "      <th>자전거번호</th>\n",
       "      <th>대여일시</th>\n",
       "      <th>대여 대여소번호</th>\n",
       "      <th>대여 대여소명</th>\n",
       "      <th>대여거치대</th>\n",
       "      <th>반납일시</th>\n",
       "      <th>반납대여소번호</th>\n",
       "      <th>반납대여소명</th>\n",
       "      <th>반납거치대</th>\n",
       "      <th>이용시간</th>\n",
       "      <th>이용거리</th>\n",
       "    </tr>\n",
       "  </thead>\n",
       "  <tbody>\n",
       "    <tr>\n",
       "      <th>0</th>\n",
       "      <td>SPB-53145</td>\n",
       "      <td>2021-01-02 20:50:36</td>\n",
       "      <td>3</td>\n",
       "      <td>중랑센터</td>\n",
       "      <td>0</td>\n",
       "      <td>2021-01-02 21:15:41</td>\n",
       "      <td>668</td>\n",
       "      <td>서울축산농협(장안지점)</td>\n",
       "      <td>0</td>\n",
       "      <td>25</td>\n",
       "      <td>0.0</td>\n",
       "    </tr>\n",
       "  </tbody>\n",
       "</table>\n",
       "</div>"
      ],
      "text/plain": [
       "       자전거번호                 대여일시  대여 대여소번호 대여 대여소명  대여거치대  \\\n",
       "0  SPB-53145  2021-01-02 20:50:36         3    중랑센터      0   \n",
       "\n",
       "                  반납일시  반납대여소번호        반납대여소명  반납거치대  이용시간  이용거리  \n",
       "0  2021-01-02 21:15:41      668  서울축산농협(장안지점)      0    25   0.0  "
      ]
     },
     "execution_count": 5,
     "metadata": {},
     "output_type": "execute_result"
    }
   ],
   "source": [
    "df1.head(1)"
   ]
  },
  {
   "cell_type": "markdown",
   "id": "b2c27450",
   "metadata": {},
   "source": [
    "### 데이터 연결/확인\n",
    "* concat"
   ]
  },
  {
   "cell_type": "code",
   "execution_count": 10,
   "id": "367fa222",
   "metadata": {},
   "outputs": [
    {
     "data": {
      "text/plain": [
       "13613873"
      ]
     },
     "execution_count": 10,
     "metadata": {},
     "output_type": "execute_result"
    }
   ],
   "source": [
    "# concat\n",
    "df = pd.concat([df1,df2,df3,df4,df5,df6])\n",
    "len(df)"
   ]
  },
  {
   "cell_type": "code",
   "execution_count": 11,
   "id": "22f3ce8d",
   "metadata": {},
   "outputs": [
    {
     "data": {
      "text/html": [
       "<div>\n",
       "<style scoped>\n",
       "    .dataframe tbody tr th:only-of-type {\n",
       "        vertical-align: middle;\n",
       "    }\n",
       "\n",
       "    .dataframe tbody tr th {\n",
       "        vertical-align: top;\n",
       "    }\n",
       "\n",
       "    .dataframe thead th {\n",
       "        text-align: right;\n",
       "    }\n",
       "</style>\n",
       "<table border=\"1\" class=\"dataframe\">\n",
       "  <thead>\n",
       "    <tr style=\"text-align: right;\">\n",
       "      <th></th>\n",
       "      <th>자전거번호</th>\n",
       "      <th>대여일시</th>\n",
       "      <th>대여 대여소번호</th>\n",
       "      <th>대여 대여소명</th>\n",
       "      <th>대여거치대</th>\n",
       "      <th>반납일시</th>\n",
       "      <th>반납대여소번호</th>\n",
       "      <th>반납대여소명</th>\n",
       "      <th>반납거치대</th>\n",
       "      <th>이용시간</th>\n",
       "      <th>이용거리</th>\n",
       "    </tr>\n",
       "  </thead>\n",
       "  <tbody>\n",
       "    <tr>\n",
       "      <th>0</th>\n",
       "      <td>SPB-53145</td>\n",
       "      <td>2021-01-02 20:50:36</td>\n",
       "      <td>3</td>\n",
       "      <td>중랑센터</td>\n",
       "      <td>0</td>\n",
       "      <td>2021-01-02 21:15:41</td>\n",
       "      <td>668</td>\n",
       "      <td>서울축산농협(장안지점)</td>\n",
       "      <td>0</td>\n",
       "      <td>25.0</td>\n",
       "      <td>0.0</td>\n",
       "    </tr>\n",
       "  </tbody>\n",
       "</table>\n",
       "</div>"
      ],
      "text/plain": [
       "       자전거번호                 대여일시  대여 대여소번호 대여 대여소명 대여거치대  \\\n",
       "0  SPB-53145  2021-01-02 20:50:36         3    중랑센터     0   \n",
       "\n",
       "                  반납일시 반납대여소번호        반납대여소명  반납거치대  이용시간  이용거리  \n",
       "0  2021-01-02 21:15:41     668  서울축산농협(장안지점)      0  25.0   0.0  "
      ]
     },
     "execution_count": 11,
     "metadata": {},
     "output_type": "execute_result"
    }
   ],
   "source": [
    "# head\n",
    "df.head(1)"
   ]
  },
  {
   "cell_type": "code",
   "execution_count": 12,
   "id": "263b0ce9",
   "metadata": {},
   "outputs": [
    {
     "data": {
      "text/html": [
       "<div>\n",
       "<style scoped>\n",
       "    .dataframe tbody tr th:only-of-type {\n",
       "        vertical-align: middle;\n",
       "    }\n",
       "\n",
       "    .dataframe tbody tr th {\n",
       "        vertical-align: top;\n",
       "    }\n",
       "\n",
       "    .dataframe thead th {\n",
       "        text-align: right;\n",
       "    }\n",
       "</style>\n",
       "<table border=\"1\" class=\"dataframe\">\n",
       "  <thead>\n",
       "    <tr style=\"text-align: right;\">\n",
       "      <th></th>\n",
       "      <th>자전거번호</th>\n",
       "      <th>대여일시</th>\n",
       "      <th>대여 대여소번호</th>\n",
       "      <th>대여 대여소명</th>\n",
       "      <th>대여거치대</th>\n",
       "      <th>반납일시</th>\n",
       "      <th>반납대여소번호</th>\n",
       "      <th>반납대여소명</th>\n",
       "      <th>반납거치대</th>\n",
       "      <th>이용시간</th>\n",
       "      <th>이용거리</th>\n",
       "    </tr>\n",
       "  </thead>\n",
       "  <tbody>\n",
       "    <tr>\n",
       "      <th>3445943</th>\n",
       "      <td>SPB-52274</td>\n",
       "      <td>2021-06-30 22:12:10</td>\n",
       "      <td>2220</td>\n",
       "      <td>반포본동 주민센터 앞</td>\n",
       "      <td>0</td>\n",
       "      <td>2021-07-01 04:55:30</td>\n",
       "      <td>02526</td>\n",
       "      <td>반포경남쇼핑 앞</td>\n",
       "      <td>0</td>\n",
       "      <td>403.0</td>\n",
       "      <td>4541.22</td>\n",
       "    </tr>\n",
       "  </tbody>\n",
       "</table>\n",
       "</div>"
      ],
      "text/plain": [
       "             자전거번호                 대여일시  대여 대여소번호      대여 대여소명 대여거치대  \\\n",
       "3445943  SPB-52274  2021-06-30 22:12:10      2220  반포본동 주민센터 앞     0   \n",
       "\n",
       "                        반납일시 반납대여소번호    반납대여소명  반납거치대   이용시간     이용거리  \n",
       "3445943  2021-07-01 04:55:30   02526  반포경남쇼핑 앞      0  403.0  4541.22  "
      ]
     },
     "execution_count": 12,
     "metadata": {},
     "output_type": "execute_result"
    }
   ],
   "source": [
    "#tail\n",
    "df.tail(1)"
   ]
  },
  {
   "cell_type": "code",
   "execution_count": 13,
   "id": "c9829c9a",
   "metadata": {},
   "outputs": [
    {
     "name": "stdout",
     "output_type": "stream",
     "text": [
      "<class 'pandas.core.frame.DataFrame'>\n",
      "Index: 13613873 entries, 0 to 3445943\n",
      "Data columns (total 11 columns):\n",
      " #   Column    Dtype  \n",
      "---  ------    -----  \n",
      " 0   자전거번호     object \n",
      " 1   대여일시      object \n",
      " 2   대여 대여소번호  int64  \n",
      " 3   대여 대여소명   object \n",
      " 4   대여거치대     object \n",
      " 5   반납일시      object \n",
      " 6   반납대여소번호   object \n",
      " 7   반납대여소명    object \n",
      " 8   반납거치대     int64  \n",
      " 9   이용시간      float64\n",
      " 10  이용거리      float64\n",
      "dtypes: float64(2), int64(2), object(7)\n",
      "memory usage: 1.2+ GB\n"
     ]
    }
   ],
   "source": [
    "# 데이터 크기\n",
    "# 데이터 정보(사용메모리)\n",
    "df.info()"
   ]
  },
  {
   "cell_type": "code",
   "execution_count": 14,
   "id": "fd27aa50",
   "metadata": {
    "scrolled": true
   },
   "outputs": [
    {
     "data": {
      "text/plain": [
       "(13613873, 11)"
      ]
     },
     "execution_count": 14,
     "metadata": {},
     "output_type": "execute_result"
    }
   ],
   "source": [
    "# 데이터 크기\n",
    "df.shape"
   ]
  },
  {
   "cell_type": "markdown",
   "id": "d1306bfb",
   "metadata": {},
   "source": [
    "## 데이터 전처리"
   ]
  },
  {
   "cell_type": "markdown",
   "id": "dad37062",
   "metadata": {},
   "source": [
    "### 불필요한 컬럼 제거"
   ]
  },
  {
   "cell_type": "code",
   "execution_count": 15,
   "metadata": {},
   "outputs": [
    {
     "data": {
      "text/html": [
       "<div>\n",
       "<style scoped>\n",
       "    .dataframe tbody tr th:only-of-type {\n",
       "        vertical-align: middle;\n",
       "    }\n",
       "\n",
       "    .dataframe tbody tr th {\n",
       "        vertical-align: top;\n",
       "    }\n",
       "\n",
       "    .dataframe thead th {\n",
       "        text-align: right;\n",
       "    }\n",
       "</style>\n",
       "<table border=\"1\" class=\"dataframe\">\n",
       "  <thead>\n",
       "    <tr style=\"text-align: right;\">\n",
       "      <th></th>\n",
       "      <th>자전거번호</th>\n",
       "      <th>대여일시</th>\n",
       "      <th>대여 대여소번호</th>\n",
       "      <th>대여 대여소명</th>\n",
       "      <th>대여거치대</th>\n",
       "      <th>반납일시</th>\n",
       "      <th>반납대여소번호</th>\n",
       "      <th>반납대여소명</th>\n",
       "      <th>반납거치대</th>\n",
       "      <th>이용시간</th>\n",
       "      <th>이용거리</th>\n",
       "    </tr>\n",
       "  </thead>\n",
       "  <tbody>\n",
       "    <tr>\n",
       "      <th>0</th>\n",
       "      <td>SPB-53145</td>\n",
       "      <td>2021-01-02 20:50:36</td>\n",
       "      <td>3</td>\n",
       "      <td>중랑센터</td>\n",
       "      <td>0</td>\n",
       "      <td>2021-01-02 21:15:41</td>\n",
       "      <td>668</td>\n",
       "      <td>서울축산농협(장안지점)</td>\n",
       "      <td>0</td>\n",
       "      <td>25.0</td>\n",
       "      <td>0.00</td>\n",
       "    </tr>\n",
       "    <tr>\n",
       "      <th>1</th>\n",
       "      <td>SPB-53074</td>\n",
       "      <td>2021-01-04 16:02:12</td>\n",
       "      <td>3</td>\n",
       "      <td>중랑센터</td>\n",
       "      <td>0</td>\n",
       "      <td>2021-01-04 16:17:06</td>\n",
       "      <td>668</td>\n",
       "      <td>서울축산농협(장안지점)</td>\n",
       "      <td>0</td>\n",
       "      <td>14.0</td>\n",
       "      <td>0.00</td>\n",
       "    </tr>\n",
       "    <tr>\n",
       "      <th>2</th>\n",
       "      <td>SPB-50952</td>\n",
       "      <td>2021-01-13 21:02:05</td>\n",
       "      <td>3</td>\n",
       "      <td>중랑센터</td>\n",
       "      <td>0</td>\n",
       "      <td>2021-01-13 21:14:04</td>\n",
       "      <td>668</td>\n",
       "      <td>서울축산농협(장안지점)</td>\n",
       "      <td>0</td>\n",
       "      <td>11.0</td>\n",
       "      <td>1853.99</td>\n",
       "    </tr>\n",
       "  </tbody>\n",
       "</table>\n",
       "</div>"
      ],
      "text/plain": [
       "       자전거번호                 대여일시  대여 대여소번호 대여 대여소명 대여거치대  \\\n",
       "0  SPB-53145  2021-01-02 20:50:36         3    중랑센터     0   \n",
       "1  SPB-53074  2021-01-04 16:02:12         3    중랑센터     0   \n",
       "2  SPB-50952  2021-01-13 21:02:05         3    중랑센터     0   \n",
       "\n",
       "                  반납일시 반납대여소번호        반납대여소명  반납거치대  이용시간     이용거리  \n",
       "0  2021-01-02 21:15:41     668  서울축산농협(장안지점)      0  25.0     0.00  \n",
       "1  2021-01-04 16:17:06     668  서울축산농협(장안지점)      0  14.0     0.00  \n",
       "2  2021-01-13 21:14:04     668  서울축산농협(장안지점)      0  11.0  1853.99  "
      ]
     },
     "execution_count": 15,
     "metadata": {},
     "output_type": "execute_result"
    }
   ],
   "source": [
    "df.head(3)"
   ]
  },
  {
   "cell_type": "code",
   "execution_count": 16,
   "metadata": {},
   "outputs": [
    {
     "name": "stdout",
     "output_type": "stream",
     "text": [
      "[0 7 99 1 4 3 19 2 20 16 11 12 10 9 5 8 6 15 23 17 13 14 18 40 38 33 22 24\n",
      " 39 26 21 27 25 32 29 30 34 31 28 36 37 35 '0' '8' '99' '1' '7' '11' '6'\n",
      " '2' '10' '5' '17' '3' '4' '15' '16' '12' '9' '18' '19' '14' '13' '21'\n",
      " '28' '20' '26' '30' '25' '22' '23' '24' '39' '36' '37' '34' '32' '29'\n",
      " '27' '2021-02-06 09:29:07' '31' '33' '2021-02-08 08:57:41'\n",
      " '2021-02-09 22:11:59' '35' '2021-02-18 13:04:47' '40'\n",
      " '2021-02-22 15:03:56' '38' '2021-02-24 08:11:15' '2021-02-26 12:32:20'\n",
      " '2021-02-26 13:47:05' '2021-02-27 21:07:10' '2021-03-02 14:20:36'\n",
      " '2021-03-02 20:39:35' '2021-03-02 22:30:53' '2021-03-03 18:08:05'\n",
      " '2021-03-03 19:10:48' '2021-03-04 06:37:43' '2021-03-04 12:53:15'\n",
      " '2021-03-05 15:47:47' '2021-03-06 00:22:21' '2021-03-06 14:09:35'\n",
      " '2021-03-08 14:32:51' '2021-03-08 18:17:54' '2021-03-09 07:23:12'\n",
      " '2021-03-09 07:44:56' '2021-03-12 13:39:05' '2021-03-12 18:11:17'\n",
      " '2021-03-12 18:53:10' '2021-03-13 10:03:30' '2021-03-14 21:42:44'\n",
      " '2021-03-16 20:08:51' '2021-03-17 20:09:40' '2021-03-19 21:38:50'\n",
      " '2021-03-19 21:48:28' '2021-03-19 22:16:58' '2021-03-24 08:30:24'\n",
      " '2021-03-24 17:05:00' '2021-03-24 22:03:24' '2021-03-25 16:48:49'\n",
      " '2021-03-28 15:01:55' '2021-03-30 08:44:09' '2021-03-31 20:42:18'\n",
      " '2021-04-01 17:14:41' '2021-04-01 20:07:42' '2021-04-02 20:34:24'\n",
      " '2021-04-06 08:45:49' '2021-04-06 20:19:46' '2021-04-06 23:17:56'\n",
      " '2021-04-09 22:46:21' '2021-04-11 19:03:09' '2021-04-12 08:35:27'\n",
      " '2021-04-13 13:37:28' '2021-04-13 14:19:59' '2021-04-14 16:17:03'\n",
      " '2021-04-16 12:55:19' '2021-04-16 18:48:12' '2021-04-18 02:28:10'\n",
      " '2021-04-19 12:44:34' '2021-04-19 19:25:40' '2021-04-20 07:10:59'\n",
      " '2021-04-21 19:17:27' '2021-04-21 21:34:51' '2021-04-22 18:35:41'\n",
      " '2021-04-23 12:19:31' '2021-04-23 20:45:04' '2021-04-25 03:34:51'\n",
      " '2021-04-25 16:24:41' '2021-04-26 14:45:27' '2021-04-27 15:51:56'\n",
      " '2021-04-27 18:43:43' '2021-04-27 19:08:05' '2021-04-28 16:00:16'\n",
      " '2021-04-30 18:26:48' '2021-04-30 23:01:47' '2021-05-01 09:28:56'\n",
      " '2021-05-02 07:33:08' '2021-05-02 17:30:43' '2021-05-02 19:44:56'\n",
      " '2021-05-03 21:56:14' '2021-05-04 00:29:48' '2021-05-05 16:14:41'\n",
      " '2021-05-07 06:30:42' '2021-05-07 08:46:38' '2021-05-07 14:21:30'\n",
      " '2021-05-07 15:16:16' '2021-05-07 19:11:10' '2021-05-08 13:43:43'\n",
      " '2021-05-08 17:34:43' '2021-05-09 17:29:57' '2021-05-13 00:29:32'\n",
      " '2021-05-13 10:04:09' '2021-05-13 21:53:45' '2021-05-14 23:29:41'\n",
      " '2021-05-18 04:59:39' '2021-05-18 16:23:29' '2021-05-18 19:55:00'\n",
      " '2021-05-18 20:42:44' '2021-05-19 17:45:27' '2021-05-20 00:49:35'\n",
      " '2021-05-21 14:04:32' '2021-05-22 18:44:11' '2021-05-24 19:23:53'\n",
      " '2021-05-25 02:15:31' '2021-05-25 14:28:45' '2021-05-25 19:36:05'\n",
      " '2021-05-26 17:50:37' '2021-05-26 18:46:15' '2021-05-26 22:38:02'\n",
      " '2021-05-27 19:25:01' '2021-05-28 21:26:10' '2021-05-30 20:00:46'\n",
      " '2021-05-31 16:40:32' '2021-06-01 21:50:23' '2021-06-01 22:18:02'\n",
      " '2021-06-02 16:25:40' '2021-06-03 05:28:30' '2021-06-06 10:26:42'\n",
      " '2021-06-06 12:11:27' '2021-06-06 12:22:35' '2021-06-07 05:40:56'\n",
      " '2021-06-07 11:22:57' '2021-06-07 21:00:04' '2021-06-08 18:57:04'\n",
      " '2021-06-08 19:34:19' '2021-06-08 20:45:23' '2021-06-08 22:11:48'\n",
      " '2021-06-09 08:40:04' '2021-06-09 19:14:00' '2021-06-12 00:49:24'\n",
      " '2021-06-14 23:01:59' '2021-06-15 22:17:51' '2021-06-16 23:01:45'\n",
      " '2021-06-17 21:07:35' '2021-06-20 16:10:02' '2021-06-20 17:32:33'\n",
      " '2021-06-20 19:11:58' '2021-06-21 00:12:38' '2021-06-21 09:23:27'\n",
      " '2021-06-21 13:41:49' '2021-06-21 17:30:41' '2021-06-23 14:41:11'\n",
      " '2021-06-23 20:57:29' '2021-06-24 21:52:26' '2021-06-25 17:13:52'\n",
      " '2021-06-26 20:26:59' '2021-06-27 14:03:17' '2021-06-27 16:22:13'\n",
      " '2021-06-30 14:22:44']\n",
      "[  0   1   8  99  11   2   6   3   4   5   7  19  10   9  12  17  20  14\n",
      "  13  15  33  16  18  27  38  23  21  30  40  26  22  25  28  32  29  36\n",
      "  24  31  37  34  35  39  58  52  87  54  43  49 120  57 105 107  60  42\n",
      "  86  44  71  68 108  48  62 111  50 116  41  84  65  69  72 118  59  46\n",
      "  47  53  56 115  45 106  74  98  55]\n"
     ]
    }
   ],
   "source": [
    "df.isnull().sum()\n",
    "print(df[\"대여거치대\"].unique())\n",
    "print(df[\"반납거치대\"].unique())"
   ]
  },
  {
   "cell_type": "code",
   "execution_count": 17,
   "id": "731c760c",
   "metadata": {
    "scrolled": false
   },
   "outputs": [],
   "source": [
    "# 자전거번호, 대여거치대, 반납거치대 \n",
    "df.drop(columns=[\"자전거번호\", \"대여거치대\", \"반납거치대\"],inplace=True)"
   ]
  },
  {
   "cell_type": "code",
   "execution_count": 18,
   "metadata": {},
   "outputs": [
    {
     "name": "stdout",
     "output_type": "stream",
     "text": [
      "<class 'pandas.core.frame.DataFrame'>\n",
      "Index: 13613873 entries, 0 to 3445943\n",
      "Data columns (total 8 columns):\n",
      " #   Column    Dtype  \n",
      "---  ------    -----  \n",
      " 0   대여일시      object \n",
      " 1   대여 대여소번호  int64  \n",
      " 2   대여 대여소명   object \n",
      " 3   반납일시      object \n",
      " 4   반납대여소번호   object \n",
      " 5   반납대여소명    object \n",
      " 6   이용시간      float64\n",
      " 7   이용거리      float64\n",
      "dtypes: float64(2), int64(1), object(5)\n",
      "memory usage: 934.8+ MB\n"
     ]
    }
   ],
   "source": [
    "df.info()"
   ]
  },
  {
   "cell_type": "code",
   "execution_count": 19,
   "id": "5e61327b",
   "metadata": {
    "scrolled": true
   },
   "outputs": [
    {
     "data": {
      "text/html": [
       "<div>\n",
       "<style scoped>\n",
       "    .dataframe tbody tr th:only-of-type {\n",
       "        vertical-align: middle;\n",
       "    }\n",
       "\n",
       "    .dataframe tbody tr th {\n",
       "        vertical-align: top;\n",
       "    }\n",
       "\n",
       "    .dataframe thead th {\n",
       "        text-align: right;\n",
       "    }\n",
       "</style>\n",
       "<table border=\"1\" class=\"dataframe\">\n",
       "  <thead>\n",
       "    <tr style=\"text-align: right;\">\n",
       "      <th></th>\n",
       "      <th>대여일시</th>\n",
       "      <th>대여 대여소번호</th>\n",
       "      <th>대여 대여소명</th>\n",
       "      <th>반납일시</th>\n",
       "      <th>반납대여소번호</th>\n",
       "      <th>반납대여소명</th>\n",
       "      <th>이용시간</th>\n",
       "      <th>이용거리</th>\n",
       "    </tr>\n",
       "  </thead>\n",
       "  <tbody>\n",
       "    <tr>\n",
       "      <th>0</th>\n",
       "      <td>2021-01-02 20:50:36</td>\n",
       "      <td>3</td>\n",
       "      <td>중랑센터</td>\n",
       "      <td>2021-01-02 21:15:41</td>\n",
       "      <td>668</td>\n",
       "      <td>서울축산농협(장안지점)</td>\n",
       "      <td>25.0</td>\n",
       "      <td>0.0</td>\n",
       "    </tr>\n",
       "  </tbody>\n",
       "</table>\n",
       "</div>"
      ],
      "text/plain": [
       "                  대여일시  대여 대여소번호 대여 대여소명                 반납일시 반납대여소번호  \\\n",
       "0  2021-01-02 20:50:36         3    중랑센터  2021-01-02 21:15:41     668   \n",
       "\n",
       "         반납대여소명  이용시간  이용거리  \n",
       "0  서울축산농협(장안지점)  25.0   0.0  "
      ]
     },
     "execution_count": 19,
     "metadata": {},
     "output_type": "execute_result"
    }
   ],
   "source": [
    "df.head(1)"
   ]
  },
  {
   "cell_type": "markdown",
   "id": "f6f9c487",
   "metadata": {},
   "source": [
    "### 자료형 확인/변경"
   ]
  },
  {
   "cell_type": "code",
   "execution_count": 20,
   "id": "64c14609",
   "metadata": {
    "scrolled": true
   },
   "outputs": [
    {
     "data": {
      "text/plain": [
       "대여일시         object\n",
       "대여 대여소번호      int64\n",
       "대여 대여소명      object\n",
       "반납일시         object\n",
       "반납대여소번호      object\n",
       "반납대여소명       object\n",
       "이용시간        float64\n",
       "이용거리        float64\n",
       "dtype: object"
      ]
     },
     "execution_count": 20,
     "metadata": {},
     "output_type": "execute_result"
    }
   ],
   "source": [
    "# 자료형 확인\n",
    "df.dtypes"
   ]
  },
  {
   "cell_type": "code",
   "execution_count": 21,
   "metadata": {},
   "outputs": [
    {
     "name": "stdout",
     "output_type": "stream",
     "text": [
      "2493\n",
      "[   3    5   10 ... 3640 3811 4322]\n",
      "4811\n",
      "[668 540 594 ... '연신내역 1번 출구' '스페이스 살림 앞' '03811']\n"
     ]
    }
   ],
   "source": [
    "print(df[\"대여 대여소번호\"].nunique())\n",
    "print(df[\"대여 대여소번호\"].unique())\n",
    "print(df[\"반납대여소번호\"].nunique())\n",
    "print(df[\"반납대여소번호\"].unique())\n",
    "#대여와 반납 대여소는 같은 대여소. \n",
    "#  데이터 대비 카테고리 형으로 줄이는게 데이터 크기를 줄이는데 이로움"
   ]
  },
  {
   "cell_type": "code",
   "execution_count": 22,
   "id": "4a07ff19",
   "metadata": {},
   "outputs": [],
   "source": [
    "# 카테고리형으로 변경  :    대여 대여소번호, 반납대여소번호\n",
    "df[\"대여 대여소번호\"]=df[\"대여 대여소번호\"].astype(\"category\")\n",
    "df[\"반납대여소번호\"]=df[\"반납대여소번호\"].astype(\"category\")"
   ]
  },
  {
   "cell_type": "code",
   "execution_count": 23,
   "id": "ec9fa79f",
   "metadata": {},
   "outputs": [
    {
     "data": {
      "text/plain": [
       "대여일시          object\n",
       "대여 대여소번호    category\n",
       "대여 대여소명       object\n",
       "반납일시          object\n",
       "반납대여소번호     category\n",
       "반납대여소명        object\n",
       "이용시간         float64\n",
       "이용거리         float64\n",
       "dtype: object"
      ]
     },
     "execution_count": 23,
     "metadata": {},
     "output_type": "execute_result"
    }
   ],
   "source": [
    "df.dtypes"
   ]
  },
  {
   "cell_type": "code",
   "execution_count": 24,
   "id": "d393a62d",
   "metadata": {},
   "outputs": [
    {
     "name": "stdout",
     "output_type": "stream",
     "text": [
      "<class 'pandas.core.frame.DataFrame'>\n",
      "Index: 13613873 entries, 0 to 3445943\n",
      "Data columns (total 8 columns):\n",
      " #   Column    Dtype   \n",
      "---  ------    -----   \n",
      " 0   대여일시      object  \n",
      " 1   대여 대여소번호  category\n",
      " 2   대여 대여소명   object  \n",
      " 3   반납일시      object  \n",
      " 4   반납대여소번호   category\n",
      " 5   반납대여소명    object  \n",
      " 6   이용시간      float64 \n",
      " 7   이용거리      float64 \n",
      "dtypes: category(2), float64(2), object(4)\n",
      "memory usage: 779.2+ MB\n"
     ]
    }
   ],
   "source": [
    "# 메모리 용량 확인\n",
    "df.info()"
   ]
  },
  {
   "cell_type": "code",
   "execution_count": 25,
   "id": "e21bada9",
   "metadata": {},
   "outputs": [
    {
     "data": {
      "text/html": [
       "<div>\n",
       "<style scoped>\n",
       "    .dataframe tbody tr th:only-of-type {\n",
       "        vertical-align: middle;\n",
       "    }\n",
       "\n",
       "    .dataframe tbody tr th {\n",
       "        vertical-align: top;\n",
       "    }\n",
       "\n",
       "    .dataframe thead th {\n",
       "        text-align: right;\n",
       "    }\n",
       "</style>\n",
       "<table border=\"1\" class=\"dataframe\">\n",
       "  <thead>\n",
       "    <tr style=\"text-align: right;\">\n",
       "      <th></th>\n",
       "      <th>대여일시</th>\n",
       "      <th>대여 대여소번호</th>\n",
       "      <th>대여 대여소명</th>\n",
       "      <th>반납일시</th>\n",
       "      <th>반납대여소번호</th>\n",
       "      <th>반납대여소명</th>\n",
       "      <th>이용시간</th>\n",
       "      <th>이용거리</th>\n",
       "    </tr>\n",
       "  </thead>\n",
       "  <tbody>\n",
       "    <tr>\n",
       "      <th>0</th>\n",
       "      <td>2021-01-02 20:50:36</td>\n",
       "      <td>3</td>\n",
       "      <td>중랑센터</td>\n",
       "      <td>2021-01-02 21:15:41</td>\n",
       "      <td>668</td>\n",
       "      <td>서울축산농협(장안지점)</td>\n",
       "      <td>25.0</td>\n",
       "      <td>0.00</td>\n",
       "    </tr>\n",
       "    <tr>\n",
       "      <th>1</th>\n",
       "      <td>2021-01-04 16:02:12</td>\n",
       "      <td>3</td>\n",
       "      <td>중랑센터</td>\n",
       "      <td>2021-01-04 16:17:06</td>\n",
       "      <td>668</td>\n",
       "      <td>서울축산농협(장안지점)</td>\n",
       "      <td>14.0</td>\n",
       "      <td>0.00</td>\n",
       "    </tr>\n",
       "    <tr>\n",
       "      <th>2</th>\n",
       "      <td>2021-01-13 21:02:05</td>\n",
       "      <td>3</td>\n",
       "      <td>중랑센터</td>\n",
       "      <td>2021-01-13 21:14:04</td>\n",
       "      <td>668</td>\n",
       "      <td>서울축산농협(장안지점)</td>\n",
       "      <td>11.0</td>\n",
       "      <td>1853.99</td>\n",
       "    </tr>\n",
       "    <tr>\n",
       "      <th>3</th>\n",
       "      <td>2021-01-14 21:02:55</td>\n",
       "      <td>3</td>\n",
       "      <td>중랑센터</td>\n",
       "      <td>2021-01-14 21:13:41</td>\n",
       "      <td>668</td>\n",
       "      <td>서울축산농협(장안지점)</td>\n",
       "      <td>10.0</td>\n",
       "      <td>0.00</td>\n",
       "    </tr>\n",
       "    <tr>\n",
       "      <th>4</th>\n",
       "      <td>2021-01-18 18:02:08</td>\n",
       "      <td>3</td>\n",
       "      <td>중랑센터</td>\n",
       "      <td>2021-01-18 18:15:22</td>\n",
       "      <td>540</td>\n",
       "      <td>군자역 7번출구 베스트샵 앞</td>\n",
       "      <td>13.0</td>\n",
       "      <td>2291.05</td>\n",
       "    </tr>\n",
       "  </tbody>\n",
       "</table>\n",
       "</div>"
      ],
      "text/plain": [
       "                  대여일시 대여 대여소번호 대여 대여소명                 반납일시 반납대여소번호  \\\n",
       "0  2021-01-02 20:50:36        3    중랑센터  2021-01-02 21:15:41     668   \n",
       "1  2021-01-04 16:02:12        3    중랑센터  2021-01-04 16:17:06     668   \n",
       "2  2021-01-13 21:02:05        3    중랑센터  2021-01-13 21:14:04     668   \n",
       "3  2021-01-14 21:02:55        3    중랑센터  2021-01-14 21:13:41     668   \n",
       "4  2021-01-18 18:02:08        3    중랑센터  2021-01-18 18:15:22     540   \n",
       "\n",
       "            반납대여소명  이용시간     이용거리  \n",
       "0     서울축산농협(장안지점)  25.0     0.00  \n",
       "1     서울축산농협(장안지점)  14.0     0.00  \n",
       "2     서울축산농협(장안지점)  11.0  1853.99  \n",
       "3     서울축산농협(장안지점)  10.0     0.00  \n",
       "4  군자역 7번출구 베스트샵 앞  13.0  2291.05  "
      ]
     },
     "execution_count": 25,
     "metadata": {},
     "output_type": "execute_result"
    }
   ],
   "source": [
    "df.head()"
   ]
  },
  {
   "cell_type": "code",
   "execution_count": 26,
   "id": "03254d7a",
   "metadata": {},
   "outputs": [],
   "source": [
    "# datetime형으로 변경 : 대여일시,반납일시\n",
    "df[\"대여일시\"] = pd.to_datetime(df[\"대여일시\"])"
   ]
  },
  {
   "cell_type": "code",
   "execution_count": 27,
   "id": "7150d8c6",
   "metadata": {},
   "outputs": [],
   "source": [
    "df[\"반납일시\"] = pd.to_datetime(df[\"반납일시\"] ,errors = \"coerce\")\n"
   ]
  },
  {
   "cell_type": "code",
   "execution_count": 28,
   "id": "2487f578",
   "metadata": {},
   "outputs": [
    {
     "data": {
      "text/plain": [
       "대여일시        datetime64[ns]\n",
       "대여 대여소번호          category\n",
       "대여 대여소명             object\n",
       "반납일시        datetime64[ns]\n",
       "반납대여소번호           category\n",
       "반납대여소명              object\n",
       "이용시간               float64\n",
       "이용거리               float64\n",
       "dtype: object"
      ]
     },
     "execution_count": 28,
     "metadata": {},
     "output_type": "execute_result"
    }
   ],
   "source": [
    "# 자료형 변경 확인\n",
    "df.dtypes"
   ]
  },
  {
   "cell_type": "markdown",
   "id": "09f83d6e",
   "metadata": {},
   "source": [
    "## 결측치 확인/처리"
   ]
  },
  {
   "cell_type": "code",
   "execution_count": 29,
   "id": "959646d5",
   "metadata": {
    "scrolled": true
   },
   "outputs": [
    {
     "data": {
      "text/plain": [
       "대여일시          0\n",
       "대여 대여소번호      0\n",
       "대여 대여소명       0\n",
       "반납일시        146\n",
       "반납대여소번호       0\n",
       "반납대여소명        0\n",
       "이용시간          0\n",
       "이용거리        269\n",
       "dtype: int64"
      ]
     },
     "execution_count": 29,
     "metadata": {},
     "output_type": "execute_result"
    }
   ],
   "source": [
    "# 결측치 확인\n",
    "df.isnull().sum()"
   ]
  },
  {
   "cell_type": "code",
   "execution_count": 30,
   "id": "c3f86ab7",
   "metadata": {},
   "outputs": [],
   "source": [
    "# 결측치 제거\n",
    "df.dropna(inplace=True)"
   ]
  },
  {
   "cell_type": "code",
   "execution_count": 31,
   "id": "3ac838ae",
   "metadata": {
    "scrolled": true
   },
   "outputs": [
    {
     "data": {
      "text/plain": [
       "대여일시        0\n",
       "대여 대여소번호    0\n",
       "대여 대여소명     0\n",
       "반납일시        0\n",
       "반납대여소번호     0\n",
       "반납대여소명      0\n",
       "이용시간        0\n",
       "이용거리        0\n",
       "dtype: int64"
      ]
     },
     "execution_count": 31,
     "metadata": {},
     "output_type": "execute_result"
    }
   ],
   "source": [
    "# 결측치 확인\n",
    "df.isnull().sum()"
   ]
  },
  {
   "cell_type": "markdown",
   "id": "f5c4c49c",
   "metadata": {},
   "source": [
    "# 일별 이용 현황"
   ]
  },
  {
   "cell_type": "markdown",
   "id": "784d5eb4",
   "metadata": {},
   "source": [
    "## 대여날짜 컬럼 추가\n",
    "* date"
   ]
  },
  {
   "cell_type": "code",
   "execution_count": 57,
   "id": "20f7e831",
   "metadata": {
    "scrolled": false
   },
   "outputs": [
    {
     "data": {
      "text/html": [
       "<div>\n",
       "<style scoped>\n",
       "    .dataframe tbody tr th:only-of-type {\n",
       "        vertical-align: middle;\n",
       "    }\n",
       "\n",
       "    .dataframe tbody tr th {\n",
       "        vertical-align: top;\n",
       "    }\n",
       "\n",
       "    .dataframe thead th {\n",
       "        text-align: right;\n",
       "    }\n",
       "</style>\n",
       "<table border=\"1\" class=\"dataframe\">\n",
       "  <thead>\n",
       "    <tr style=\"text-align: right;\">\n",
       "      <th></th>\n",
       "      <th>대여일시</th>\n",
       "      <th>대여 대여소번호</th>\n",
       "      <th>대여 대여소명</th>\n",
       "      <th>반납일시</th>\n",
       "      <th>반납대여소번호</th>\n",
       "      <th>반납대여소명</th>\n",
       "      <th>이용시간</th>\n",
       "      <th>이용거리</th>\n",
       "    </tr>\n",
       "  </thead>\n",
       "  <tbody>\n",
       "    <tr>\n",
       "      <th>0</th>\n",
       "      <td>2021-01-02 20:50:36</td>\n",
       "      <td>3</td>\n",
       "      <td>중랑센터</td>\n",
       "      <td>2021-01-02 21:15:41</td>\n",
       "      <td>668</td>\n",
       "      <td>서울축산농협(장안지점)</td>\n",
       "      <td>25.0</td>\n",
       "      <td>0.00</td>\n",
       "    </tr>\n",
       "    <tr>\n",
       "      <th>1</th>\n",
       "      <td>2021-01-04 16:02:12</td>\n",
       "      <td>3</td>\n",
       "      <td>중랑센터</td>\n",
       "      <td>2021-01-04 16:17:06</td>\n",
       "      <td>668</td>\n",
       "      <td>서울축산농협(장안지점)</td>\n",
       "      <td>14.0</td>\n",
       "      <td>0.00</td>\n",
       "    </tr>\n",
       "    <tr>\n",
       "      <th>2</th>\n",
       "      <td>2021-01-13 21:02:05</td>\n",
       "      <td>3</td>\n",
       "      <td>중랑센터</td>\n",
       "      <td>2021-01-13 21:14:04</td>\n",
       "      <td>668</td>\n",
       "      <td>서울축산농협(장안지점)</td>\n",
       "      <td>11.0</td>\n",
       "      <td>1853.99</td>\n",
       "    </tr>\n",
       "    <tr>\n",
       "      <th>3</th>\n",
       "      <td>2021-01-14 21:02:55</td>\n",
       "      <td>3</td>\n",
       "      <td>중랑센터</td>\n",
       "      <td>2021-01-14 21:13:41</td>\n",
       "      <td>668</td>\n",
       "      <td>서울축산농협(장안지점)</td>\n",
       "      <td>10.0</td>\n",
       "      <td>0.00</td>\n",
       "    </tr>\n",
       "    <tr>\n",
       "      <th>4</th>\n",
       "      <td>2021-01-18 18:02:08</td>\n",
       "      <td>3</td>\n",
       "      <td>중랑센터</td>\n",
       "      <td>2021-01-18 18:15:22</td>\n",
       "      <td>540</td>\n",
       "      <td>군자역 7번출구 베스트샵 앞</td>\n",
       "      <td>13.0</td>\n",
       "      <td>2291.05</td>\n",
       "    </tr>\n",
       "    <tr>\n",
       "      <th>...</th>\n",
       "      <td>...</td>\n",
       "      <td>...</td>\n",
       "      <td>...</td>\n",
       "      <td>...</td>\n",
       "      <td>...</td>\n",
       "      <td>...</td>\n",
       "      <td>...</td>\n",
       "      <td>...</td>\n",
       "    </tr>\n",
       "    <tr>\n",
       "      <th>3445939</th>\n",
       "      <td>2021-06-30 22:44:14</td>\n",
       "      <td>152</td>\n",
       "      <td>마포구민체육센터 앞</td>\n",
       "      <td>2021-07-01 04:48:33</td>\n",
       "      <td>00126</td>\n",
       "      <td>서강대 후문 옆</td>\n",
       "      <td>364.0</td>\n",
       "      <td>10153.36</td>\n",
       "    </tr>\n",
       "    <tr>\n",
       "      <th>3445940</th>\n",
       "      <td>2021-06-30 22:45:19</td>\n",
       "      <td>152</td>\n",
       "      <td>마포구민체육센터 앞</td>\n",
       "      <td>2021-07-01 04:52:25</td>\n",
       "      <td>00437</td>\n",
       "      <td>대흥역 1번출구</td>\n",
       "      <td>367.0</td>\n",
       "      <td>10100.71</td>\n",
       "    </tr>\n",
       "    <tr>\n",
       "      <th>3445941</th>\n",
       "      <td>2021-06-30 22:43:43</td>\n",
       "      <td>152</td>\n",
       "      <td>마포구민체육센터 앞</td>\n",
       "      <td>2021-07-01 04:52:27</td>\n",
       "      <td>00437</td>\n",
       "      <td>대흥역 1번출구</td>\n",
       "      <td>368.0</td>\n",
       "      <td>430.00</td>\n",
       "    </tr>\n",
       "    <tr>\n",
       "      <th>3445942</th>\n",
       "      <td>2021-06-30 22:11:14</td>\n",
       "      <td>2220</td>\n",
       "      <td>반포본동 주민센터 앞</td>\n",
       "      <td>2021-07-01 04:55:29</td>\n",
       "      <td>02526</td>\n",
       "      <td>반포경남쇼핑 앞</td>\n",
       "      <td>404.0</td>\n",
       "      <td>0.00</td>\n",
       "    </tr>\n",
       "    <tr>\n",
       "      <th>3445943</th>\n",
       "      <td>2021-06-30 22:12:10</td>\n",
       "      <td>2220</td>\n",
       "      <td>반포본동 주민센터 앞</td>\n",
       "      <td>2021-07-01 04:55:30</td>\n",
       "      <td>02526</td>\n",
       "      <td>반포경남쇼핑 앞</td>\n",
       "      <td>403.0</td>\n",
       "      <td>4541.22</td>\n",
       "    </tr>\n",
       "  </tbody>\n",
       "</table>\n",
       "<p>13613604 rows × 8 columns</p>\n",
       "</div>"
      ],
      "text/plain": [
       "                       대여일시 대여 대여소번호      대여 대여소명                반납일시 반납대여소번호  \\\n",
       "0       2021-01-02 20:50:36        3         중랑센터 2021-01-02 21:15:41     668   \n",
       "1       2021-01-04 16:02:12        3         중랑센터 2021-01-04 16:17:06     668   \n",
       "2       2021-01-13 21:02:05        3         중랑센터 2021-01-13 21:14:04     668   \n",
       "3       2021-01-14 21:02:55        3         중랑센터 2021-01-14 21:13:41     668   \n",
       "4       2021-01-18 18:02:08        3         중랑센터 2021-01-18 18:15:22     540   \n",
       "...                     ...      ...          ...                 ...     ...   \n",
       "3445939 2021-06-30 22:44:14      152   마포구민체육센터 앞 2021-07-01 04:48:33   00126   \n",
       "3445940 2021-06-30 22:45:19      152   마포구민체육센터 앞 2021-07-01 04:52:25   00437   \n",
       "3445941 2021-06-30 22:43:43      152   마포구민체육센터 앞 2021-07-01 04:52:27   00437   \n",
       "3445942 2021-06-30 22:11:14     2220  반포본동 주민센터 앞 2021-07-01 04:55:29   02526   \n",
       "3445943 2021-06-30 22:12:10     2220  반포본동 주민센터 앞 2021-07-01 04:55:30   02526   \n",
       "\n",
       "                  반납대여소명   이용시간      이용거리  \n",
       "0           서울축산농협(장안지점)   25.0      0.00  \n",
       "1           서울축산농협(장안지점)   14.0      0.00  \n",
       "2           서울축산농협(장안지점)   11.0   1853.99  \n",
       "3           서울축산농협(장안지점)   10.0      0.00  \n",
       "4        군자역 7번출구 베스트샵 앞   13.0   2291.05  \n",
       "...                  ...    ...       ...  \n",
       "3445939         서강대 후문 옆  364.0  10153.36  \n",
       "3445940         대흥역 1번출구  367.0  10100.71  \n",
       "3445941         대흥역 1번출구  368.0    430.00  \n",
       "3445942         반포경남쇼핑 앞  404.0      0.00  \n",
       "3445943         반포경남쇼핑 앞  403.0   4541.22  \n",
       "\n",
       "[13613604 rows x 8 columns]"
      ]
     },
     "execution_count": 57,
     "metadata": {},
     "output_type": "execute_result"
    }
   ],
   "source": [
    "df"
   ]
  },
  {
   "cell_type": "code",
   "execution_count": 58,
   "id": "97da15cf",
   "metadata": {
    "scrolled": true
   },
   "outputs": [],
   "source": [
    "df[\"대여날짜\"] = df[\"대여일시\"].dt.date\n",
    "# 연월일을 가져오려면 date"
   ]
  },
  {
   "cell_type": "code",
   "execution_count": 59,
   "metadata": {},
   "outputs": [
    {
     "data": {
      "text/html": [
       "<div>\n",
       "<style scoped>\n",
       "    .dataframe tbody tr th:only-of-type {\n",
       "        vertical-align: middle;\n",
       "    }\n",
       "\n",
       "    .dataframe tbody tr th {\n",
       "        vertical-align: top;\n",
       "    }\n",
       "\n",
       "    .dataframe thead th {\n",
       "        text-align: right;\n",
       "    }\n",
       "</style>\n",
       "<table border=\"1\" class=\"dataframe\">\n",
       "  <thead>\n",
       "    <tr style=\"text-align: right;\">\n",
       "      <th></th>\n",
       "      <th>대여일시</th>\n",
       "      <th>대여 대여소번호</th>\n",
       "      <th>대여 대여소명</th>\n",
       "      <th>반납일시</th>\n",
       "      <th>반납대여소번호</th>\n",
       "      <th>반납대여소명</th>\n",
       "      <th>이용시간</th>\n",
       "      <th>이용거리</th>\n",
       "      <th>대여날짜</th>\n",
       "    </tr>\n",
       "  </thead>\n",
       "  <tbody>\n",
       "    <tr>\n",
       "      <th>0</th>\n",
       "      <td>2021-01-02 20:50:36</td>\n",
       "      <td>3</td>\n",
       "      <td>중랑센터</td>\n",
       "      <td>2021-01-02 21:15:41</td>\n",
       "      <td>668</td>\n",
       "      <td>서울축산농협(장안지점)</td>\n",
       "      <td>25.0</td>\n",
       "      <td>0.00</td>\n",
       "      <td>2021-01-02</td>\n",
       "    </tr>\n",
       "    <tr>\n",
       "      <th>1</th>\n",
       "      <td>2021-01-04 16:02:12</td>\n",
       "      <td>3</td>\n",
       "      <td>중랑센터</td>\n",
       "      <td>2021-01-04 16:17:06</td>\n",
       "      <td>668</td>\n",
       "      <td>서울축산농협(장안지점)</td>\n",
       "      <td>14.0</td>\n",
       "      <td>0.00</td>\n",
       "      <td>2021-01-04</td>\n",
       "    </tr>\n",
       "    <tr>\n",
       "      <th>2</th>\n",
       "      <td>2021-01-13 21:02:05</td>\n",
       "      <td>3</td>\n",
       "      <td>중랑센터</td>\n",
       "      <td>2021-01-13 21:14:04</td>\n",
       "      <td>668</td>\n",
       "      <td>서울축산농협(장안지점)</td>\n",
       "      <td>11.0</td>\n",
       "      <td>1853.99</td>\n",
       "      <td>2021-01-13</td>\n",
       "    </tr>\n",
       "  </tbody>\n",
       "</table>\n",
       "</div>"
      ],
      "text/plain": [
       "                 대여일시 대여 대여소번호 대여 대여소명                반납일시 반납대여소번호  \\\n",
       "0 2021-01-02 20:50:36        3    중랑센터 2021-01-02 21:15:41     668   \n",
       "1 2021-01-04 16:02:12        3    중랑센터 2021-01-04 16:17:06     668   \n",
       "2 2021-01-13 21:02:05        3    중랑센터 2021-01-13 21:14:04     668   \n",
       "\n",
       "         반납대여소명  이용시간     이용거리        대여날짜  \n",
       "0  서울축산농협(장안지점)  25.0     0.00  2021-01-02  \n",
       "1  서울축산농협(장안지점)  14.0     0.00  2021-01-04  \n",
       "2  서울축산농협(장안지점)  11.0  1853.99  2021-01-13  "
      ]
     },
     "execution_count": 59,
     "metadata": {},
     "output_type": "execute_result"
    }
   ],
   "source": [
    "df.head(3)"
   ]
  },
  {
   "cell_type": "markdown",
   "id": "482fd396",
   "metadata": {},
   "source": [
    "## 대여날짜 별 대여 건수\n",
    "* groupby\n",
    "* to_frame"
   ]
  },
  {
   "cell_type": "code",
   "execution_count": 63,
   "id": "ddef9ea5",
   "metadata": {},
   "outputs": [],
   "source": [
    "# 대여날짜 별 대여건수 추출\n",
    "df_count = df.groupby(\"대여날짜\")[\"대여일시\"].count().to_frame()"
   ]
  },
  {
   "cell_type": "code",
   "execution_count": 67,
   "id": "6ca2a9ab",
   "metadata": {},
   "outputs": [
    {
     "data": {
      "image/png": "[encoded data removed]",
      "text/plain": [
       "<Figure size 640x480 with 1 Axes>"
      ]
     },
     "metadata": {},
     "output_type": "display_data"
    }
   ],
   "source": [
    "# 대여날짜 별 대여건수 시각화\n",
    "df_count.columns = [\"대여건수\"]\n",
    "y = df_count.values\n",
    "x = df_count.index\n",
    "\n",
    "plt.plot(x,y)\n",
    "plt.title(\"서울시 공공자전거 대여날짜 별 대여건수\")\n",
    "plt.show()"
   ]
  },
  {
   "cell_type": "markdown",
   "id": "83c0ac75",
   "metadata": {},
   "source": [
    "## 대여날짜 별 이용시간\n",
    "* groupby\n",
    "* to_frame"
   ]
  },
  {
   "cell_type": "code",
   "execution_count": 70,
   "id": "3538de01",
   "metadata": {},
   "outputs": [
    {
     "data": {
      "text/html": [
       "<div>\n",
       "<style scoped>\n",
       "    .dataframe tbody tr th:only-of-type {\n",
       "        vertical-align: middle;\n",
       "    }\n",
       "\n",
       "    .dataframe tbody tr th {\n",
       "        vertical-align: top;\n",
       "    }\n",
       "\n",
       "    .dataframe thead th {\n",
       "        text-align: right;\n",
       "    }\n",
       "</style>\n",
       "<table border=\"1\" class=\"dataframe\">\n",
       "  <thead>\n",
       "    <tr style=\"text-align: right;\">\n",
       "      <th></th>\n",
       "      <th>이용시간</th>\n",
       "    </tr>\n",
       "    <tr>\n",
       "      <th>대여날짜</th>\n",
       "      <th></th>\n",
       "    </tr>\n",
       "  </thead>\n",
       "  <tbody>\n",
       "    <tr>\n",
       "      <th>2021-01-01</th>\n",
       "      <td>692309.0</td>\n",
       "    </tr>\n",
       "    <tr>\n",
       "      <th>2021-01-02</th>\n",
       "      <td>686580.0</td>\n",
       "    </tr>\n",
       "    <tr>\n",
       "      <th>2021-01-03</th>\n",
       "      <td>609571.0</td>\n",
       "    </tr>\n",
       "    <tr>\n",
       "      <th>2021-01-04</th>\n",
       "      <td>750721.0</td>\n",
       "    </tr>\n",
       "    <tr>\n",
       "      <th>2021-01-05</th>\n",
       "      <td>610227.0</td>\n",
       "    </tr>\n",
       "    <tr>\n",
       "      <th>...</th>\n",
       "      <td>...</td>\n",
       "    </tr>\n",
       "    <tr>\n",
       "      <th>2021-06-26</th>\n",
       "      <td>3168288.0</td>\n",
       "    </tr>\n",
       "    <tr>\n",
       "      <th>2021-06-27</th>\n",
       "      <td>2706168.0</td>\n",
       "    </tr>\n",
       "    <tr>\n",
       "      <th>2021-06-28</th>\n",
       "      <td>2405249.0</td>\n",
       "    </tr>\n",
       "    <tr>\n",
       "      <th>2021-06-29</th>\n",
       "      <td>2530020.0</td>\n",
       "    </tr>\n",
       "    <tr>\n",
       "      <th>2021-06-30</th>\n",
       "      <td>2950342.0</td>\n",
       "    </tr>\n",
       "  </tbody>\n",
       "</table>\n",
       "<p>181 rows × 1 columns</p>\n",
       "</div>"
      ],
      "text/plain": [
       "                 이용시간\n",
       "대여날짜                 \n",
       "2021-01-01   692309.0\n",
       "2021-01-02   686580.0\n",
       "2021-01-03   609571.0\n",
       "2021-01-04   750721.0\n",
       "2021-01-05   610227.0\n",
       "...               ...\n",
       "2021-06-26  3168288.0\n",
       "2021-06-27  2706168.0\n",
       "2021-06-28  2405249.0\n",
       "2021-06-29  2530020.0\n",
       "2021-06-30  2950342.0\n",
       "\n",
       "[181 rows x 1 columns]"
      ]
     },
     "execution_count": 70,
     "metadata": {},
     "output_type": "execute_result"
    }
   ],
   "source": [
    "# 대여날짜 별 이용시간 \n",
    "df_time = df.groupby(\"대여날짜\").이용시간.sum().to_frame()\n",
    "df_time"
   ]
  },
  {
   "cell_type": "code",
   "execution_count": 72,
   "id": "1d2ba53c",
   "metadata": {
    "scrolled": true
   },
   "outputs": [
    {
     "data": {
      "image/png": "[encoded data removed]",
      "text/plain": [
       "<Figure size 640x480 with 1 Axes>"
      ]
     },
     "metadata": {},
     "output_type": "display_data"
    }
   ],
   "source": [
    "# 대여날짜 별 이용시간 시각화\n",
    "y = df_time.values\n",
    "x = df_time.index\n",
    "\n",
    "plt.plot(x,y)\n",
    "plt.title(\"서울 공공자전거 대여날짜 별 이용시간\")\n",
    "plt.show()"
   ]
  },
  {
   "cell_type": "markdown",
   "id": "68f59bec",
   "metadata": {},
   "source": [
    "## 대여날짜 별 이용 거리"
   ]
  },
  {
   "cell_type": "code",
   "execution_count": 75,
   "id": "a9dad299",
   "metadata": {},
   "outputs": [
    {
     "data": {
      "text/html": [
       "<div>\n",
       "<style scoped>\n",
       "    .dataframe tbody tr th:only-of-type {\n",
       "        vertical-align: middle;\n",
       "    }\n",
       "\n",
       "    .dataframe tbody tr th {\n",
       "        vertical-align: top;\n",
       "    }\n",
       "\n",
       "    .dataframe thead th {\n",
       "        text-align: right;\n",
       "    }\n",
       "</style>\n",
       "<table border=\"1\" class=\"dataframe\">\n",
       "  <thead>\n",
       "    <tr style=\"text-align: right;\">\n",
       "      <th></th>\n",
       "      <th>이용거리</th>\n",
       "    </tr>\n",
       "    <tr>\n",
       "      <th>대여날짜</th>\n",
       "      <th></th>\n",
       "    </tr>\n",
       "  </thead>\n",
       "  <tbody>\n",
       "    <tr>\n",
       "      <th>2021-01-01</th>\n",
       "      <td>4.613529e+07</td>\n",
       "    </tr>\n",
       "    <tr>\n",
       "      <th>2021-01-02</th>\n",
       "      <td>4.409618e+07</td>\n",
       "    </tr>\n",
       "    <tr>\n",
       "      <th>2021-01-03</th>\n",
       "      <td>4.059830e+07</td>\n",
       "    </tr>\n",
       "    <tr>\n",
       "      <th>2021-01-04</th>\n",
       "      <td>5.249645e+07</td>\n",
       "    </tr>\n",
       "    <tr>\n",
       "      <th>2021-01-05</th>\n",
       "      <td>6.944856e+07</td>\n",
       "    </tr>\n",
       "    <tr>\n",
       "      <th>...</th>\n",
       "      <td>...</td>\n",
       "    </tr>\n",
       "    <tr>\n",
       "      <th>2021-06-26</th>\n",
       "      <td>3.635015e+08</td>\n",
       "    </tr>\n",
       "    <tr>\n",
       "      <th>2021-06-27</th>\n",
       "      <td>3.078146e+08</td>\n",
       "    </tr>\n",
       "    <tr>\n",
       "      <th>2021-06-28</th>\n",
       "      <td>2.828124e+08</td>\n",
       "    </tr>\n",
       "    <tr>\n",
       "      <th>2021-06-29</th>\n",
       "      <td>3.031029e+08</td>\n",
       "    </tr>\n",
       "    <tr>\n",
       "      <th>2021-06-30</th>\n",
       "      <td>3.395277e+08</td>\n",
       "    </tr>\n",
       "  </tbody>\n",
       "</table>\n",
       "<p>181 rows × 1 columns</p>\n",
       "</div>"
      ],
      "text/plain": [
       "                    이용거리\n",
       "대여날짜                    \n",
       "2021-01-01  4.613529e+07\n",
       "2021-01-02  4.409618e+07\n",
       "2021-01-03  4.059830e+07\n",
       "2021-01-04  5.249645e+07\n",
       "2021-01-05  6.944856e+07\n",
       "...                  ...\n",
       "2021-06-26  3.635015e+08\n",
       "2021-06-27  3.078146e+08\n",
       "2021-06-28  2.828124e+08\n",
       "2021-06-29  3.031029e+08\n",
       "2021-06-30  3.395277e+08\n",
       "\n",
       "[181 rows x 1 columns]"
      ]
     },
     "execution_count": 75,
     "metadata": {},
     "output_type": "execute_result"
    }
   ],
   "source": [
    "# 대여날짜 별 이용거리 추출\n",
    "df_distance = df.groupby(\"대여날짜\").이용거리.sum().to_frame()\n",
    "df_distance"
   ]
  },
  {
   "cell_type": "code",
   "execution_count": 76,
   "id": "bc1cda84",
   "metadata": {
    "scrolled": false
   },
   "outputs": [
    {
     "data": {
      "image/png": "[encoded data removed]",
      "text/plain": [
       "<Figure size 640x480 with 1 Axes>"
      ]
     },
     "metadata": {},
     "output_type": "display_data"
    }
   ],
   "source": [
    "# 대여날짜 별 이용거리 시각화\n",
    "y = df_distance.values\n",
    "x = df_distance.index\n",
    "\n",
    "plt.plot(x,y)\n",
    "plt.title(\"서울 공공자전거 대여날짜 별 이용거리\")\n",
    "plt.show()"
   ]
  },
  {
   "cell_type": "markdown",
   "id": "b25c9d74",
   "metadata": {},
   "source": [
    "## 데이터프레임 합치기"
   ]
  },
  {
   "cell_type": "code",
   "execution_count": 79,
   "id": "de73e2b3",
   "metadata": {},
   "outputs": [
    {
     "data": {
      "text/html": [
       "<div>\n",
       "<style scoped>\n",
       "    .dataframe tbody tr th:only-of-type {\n",
       "        vertical-align: middle;\n",
       "    }\n",
       "\n",
       "    .dataframe tbody tr th {\n",
       "        vertical-align: top;\n",
       "    }\n",
       "\n",
       "    .dataframe thead th {\n",
       "        text-align: right;\n",
       "    }\n",
       "</style>\n",
       "<table border=\"1\" class=\"dataframe\">\n",
       "  <thead>\n",
       "    <tr style=\"text-align: right;\">\n",
       "      <th></th>\n",
       "      <th>대여건수</th>\n",
       "      <th>이용시간</th>\n",
       "      <th>이용거리</th>\n",
       "    </tr>\n",
       "    <tr>\n",
       "      <th>대여날짜</th>\n",
       "      <th></th>\n",
       "      <th></th>\n",
       "      <th></th>\n",
       "    </tr>\n",
       "  </thead>\n",
       "  <tbody>\n",
       "    <tr>\n",
       "      <th>2021-01-01</th>\n",
       "      <td>22119</td>\n",
       "      <td>692309.0</td>\n",
       "      <td>4.613529e+07</td>\n",
       "    </tr>\n",
       "    <tr>\n",
       "      <th>2021-01-02</th>\n",
       "      <td>23463</td>\n",
       "      <td>686580.0</td>\n",
       "      <td>4.409618e+07</td>\n",
       "    </tr>\n",
       "    <tr>\n",
       "      <th>2021-01-03</th>\n",
       "      <td>21656</td>\n",
       "      <td>609571.0</td>\n",
       "      <td>4.059830e+07</td>\n",
       "    </tr>\n",
       "    <tr>\n",
       "      <th>2021-01-04</th>\n",
       "      <td>32732</td>\n",
       "      <td>750721.0</td>\n",
       "      <td>5.249645e+07</td>\n",
       "    </tr>\n",
       "    <tr>\n",
       "      <th>2021-01-05</th>\n",
       "      <td>28819</td>\n",
       "      <td>610227.0</td>\n",
       "      <td>6.944856e+07</td>\n",
       "    </tr>\n",
       "    <tr>\n",
       "      <th>...</th>\n",
       "      <td>...</td>\n",
       "      <td>...</td>\n",
       "      <td>...</td>\n",
       "    </tr>\n",
       "    <tr>\n",
       "      <th>2021-06-26</th>\n",
       "      <td>105414</td>\n",
       "      <td>3168288.0</td>\n",
       "      <td>3.635015e+08</td>\n",
       "    </tr>\n",
       "    <tr>\n",
       "      <th>2021-06-27</th>\n",
       "      <td>92486</td>\n",
       "      <td>2706168.0</td>\n",
       "      <td>3.078146e+08</td>\n",
       "    </tr>\n",
       "    <tr>\n",
       "      <th>2021-06-28</th>\n",
       "      <td>105882</td>\n",
       "      <td>2405249.0</td>\n",
       "      <td>2.828124e+08</td>\n",
       "    </tr>\n",
       "    <tr>\n",
       "      <th>2021-06-29</th>\n",
       "      <td>111436</td>\n",
       "      <td>2530020.0</td>\n",
       "      <td>3.031029e+08</td>\n",
       "    </tr>\n",
       "    <tr>\n",
       "      <th>2021-06-30</th>\n",
       "      <td>121632</td>\n",
       "      <td>2950342.0</td>\n",
       "      <td>3.395277e+08</td>\n",
       "    </tr>\n",
       "  </tbody>\n",
       "</table>\n",
       "<p>181 rows × 3 columns</p>\n",
       "</div>"
      ],
      "text/plain": [
       "              대여건수       이용시간          이용거리\n",
       "대여날짜                                       \n",
       "2021-01-01   22119   692309.0  4.613529e+07\n",
       "2021-01-02   23463   686580.0  4.409618e+07\n",
       "2021-01-03   21656   609571.0  4.059830e+07\n",
       "2021-01-04   32732   750721.0  5.249645e+07\n",
       "2021-01-05   28819   610227.0  6.944856e+07\n",
       "...            ...        ...           ...\n",
       "2021-06-26  105414  3168288.0  3.635015e+08\n",
       "2021-06-27   92486  2706168.0  3.078146e+08\n",
       "2021-06-28  105882  2405249.0  2.828124e+08\n",
       "2021-06-29  111436  2530020.0  3.031029e+08\n",
       "2021-06-30  121632  2950342.0  3.395277e+08\n",
       "\n",
       "[181 rows x 3 columns]"
      ]
     },
     "execution_count": 79,
     "metadata": {},
     "output_type": "execute_result"
    }
   ],
   "source": [
    "df_total = pd.concat([df_count,df_time,df_distance],axis=1)\n",
    "df_total"
   ]
  },
  {
   "cell_type": "markdown",
   "id": "da51253c",
   "metadata": {},
   "source": [
    "# 시간대별 대여/반납 현황"
   ]
  },
  {
   "cell_type": "markdown",
   "id": "c3b379c3",
   "metadata": {},
   "source": [
    "## 대여시간, 반납시간 컬럼 추가"
   ]
  },
  {
   "cell_type": "code",
   "execution_count": 80,
   "id": "7e063bc2",
   "metadata": {},
   "outputs": [
    {
     "data": {
      "text/html": [
       "<div>\n",
       "<style scoped>\n",
       "    .dataframe tbody tr th:only-of-type {\n",
       "        vertical-align: middle;\n",
       "    }\n",
       "\n",
       "    .dataframe tbody tr th {\n",
       "        vertical-align: top;\n",
       "    }\n",
       "\n",
       "    .dataframe thead th {\n",
       "        text-align: right;\n",
       "    }\n",
       "</style>\n",
       "<table border=\"1\" class=\"dataframe\">\n",
       "  <thead>\n",
       "    <tr style=\"text-align: right;\">\n",
       "      <th></th>\n",
       "      <th>대여일시</th>\n",
       "      <th>대여 대여소번호</th>\n",
       "      <th>대여 대여소명</th>\n",
       "      <th>반납일시</th>\n",
       "      <th>반납대여소번호</th>\n",
       "      <th>반납대여소명</th>\n",
       "      <th>이용시간</th>\n",
       "      <th>이용거리</th>\n",
       "      <th>대여날짜</th>\n",
       "    </tr>\n",
       "  </thead>\n",
       "  <tbody>\n",
       "    <tr>\n",
       "      <th>0</th>\n",
       "      <td>2021-01-02 20:50:36</td>\n",
       "      <td>3</td>\n",
       "      <td>중랑센터</td>\n",
       "      <td>2021-01-02 21:15:41</td>\n",
       "      <td>668</td>\n",
       "      <td>서울축산농협(장안지점)</td>\n",
       "      <td>25.0</td>\n",
       "      <td>0.00</td>\n",
       "      <td>2021-01-02</td>\n",
       "    </tr>\n",
       "    <tr>\n",
       "      <th>1</th>\n",
       "      <td>2021-01-04 16:02:12</td>\n",
       "      <td>3</td>\n",
       "      <td>중랑센터</td>\n",
       "      <td>2021-01-04 16:17:06</td>\n",
       "      <td>668</td>\n",
       "      <td>서울축산농협(장안지점)</td>\n",
       "      <td>14.0</td>\n",
       "      <td>0.00</td>\n",
       "      <td>2021-01-04</td>\n",
       "    </tr>\n",
       "    <tr>\n",
       "      <th>2</th>\n",
       "      <td>2021-01-13 21:02:05</td>\n",
       "      <td>3</td>\n",
       "      <td>중랑센터</td>\n",
       "      <td>2021-01-13 21:14:04</td>\n",
       "      <td>668</td>\n",
       "      <td>서울축산농협(장안지점)</td>\n",
       "      <td>11.0</td>\n",
       "      <td>1853.99</td>\n",
       "      <td>2021-01-13</td>\n",
       "    </tr>\n",
       "    <tr>\n",
       "      <th>3</th>\n",
       "      <td>2021-01-14 21:02:55</td>\n",
       "      <td>3</td>\n",
       "      <td>중랑센터</td>\n",
       "      <td>2021-01-14 21:13:41</td>\n",
       "      <td>668</td>\n",
       "      <td>서울축산농협(장안지점)</td>\n",
       "      <td>10.0</td>\n",
       "      <td>0.00</td>\n",
       "      <td>2021-01-14</td>\n",
       "    </tr>\n",
       "    <tr>\n",
       "      <th>4</th>\n",
       "      <td>2021-01-18 18:02:08</td>\n",
       "      <td>3</td>\n",
       "      <td>중랑센터</td>\n",
       "      <td>2021-01-18 18:15:22</td>\n",
       "      <td>540</td>\n",
       "      <td>군자역 7번출구 베스트샵 앞</td>\n",
       "      <td>13.0</td>\n",
       "      <td>2291.05</td>\n",
       "      <td>2021-01-18</td>\n",
       "    </tr>\n",
       "  </tbody>\n",
       "</table>\n",
       "</div>"
      ],
      "text/plain": [
       "                 대여일시 대여 대여소번호 대여 대여소명                반납일시 반납대여소번호  \\\n",
       "0 2021-01-02 20:50:36        3    중랑센터 2021-01-02 21:15:41     668   \n",
       "1 2021-01-04 16:02:12        3    중랑센터 2021-01-04 16:17:06     668   \n",
       "2 2021-01-13 21:02:05        3    중랑센터 2021-01-13 21:14:04     668   \n",
       "3 2021-01-14 21:02:55        3    중랑센터 2021-01-14 21:13:41     668   \n",
       "4 2021-01-18 18:02:08        3    중랑센터 2021-01-18 18:15:22     540   \n",
       "\n",
       "            반납대여소명  이용시간     이용거리        대여날짜  \n",
       "0     서울축산농협(장안지점)  25.0     0.00  2021-01-02  \n",
       "1     서울축산농협(장안지점)  14.0     0.00  2021-01-04  \n",
       "2     서울축산농협(장안지점)  11.0  1853.99  2021-01-13  \n",
       "3     서울축산농협(장안지점)  10.0     0.00  2021-01-14  \n",
       "4  군자역 7번출구 베스트샵 앞  13.0  2291.05  2021-01-18  "
      ]
     },
     "execution_count": 80,
     "metadata": {},
     "output_type": "execute_result"
    }
   ],
   "source": [
    "df.head()"
   ]
  },
  {
   "cell_type": "code",
   "execution_count": 81,
   "id": "14b9ad9e",
   "metadata": {},
   "outputs": [],
   "source": [
    "df[\"대여시간\"] = df[\"대여일시\"].dt.hour\n",
    "df[\"반납시간\"] = df[\"반납일시\"].dt.hour"
   ]
  },
  {
   "cell_type": "code",
   "execution_count": 83,
   "id": "c84e1a21",
   "metadata": {},
   "outputs": [
    {
     "data": {
      "text/plain": [
       "대여일시        datetime64[ns]\n",
       "대여 대여소번호          category\n",
       "대여 대여소명             object\n",
       "반납일시        datetime64[ns]\n",
       "반납대여소번호           category\n",
       "반납대여소명              object\n",
       "이용시간               float64\n",
       "이용거리               float64\n",
       "대여날짜                object\n",
       "대여시간                 int32\n",
       "반납시간                 int32\n",
       "dtype: object"
      ]
     },
     "execution_count": 83,
     "metadata": {},
     "output_type": "execute_result"
    }
   ],
   "source": [
    "df.dtypes"
   ]
  },
  {
   "cell_type": "markdown",
   "id": "e22fc1a4",
   "metadata": {},
   "source": [
    "## 시간대별 대여/반납 현황"
   ]
  },
  {
   "cell_type": "code",
   "execution_count": 84,
   "id": "70c0dfa6",
   "metadata": {},
   "outputs": [
    {
     "data": {
      "text/html": [
       "<div>\n",
       "<style scoped>\n",
       "    .dataframe tbody tr th:only-of-type {\n",
       "        vertical-align: middle;\n",
       "    }\n",
       "\n",
       "    .dataframe tbody tr th {\n",
       "        vertical-align: top;\n",
       "    }\n",
       "\n",
       "    .dataframe thead th {\n",
       "        text-align: right;\n",
       "    }\n",
       "</style>\n",
       "<table border=\"1\" class=\"dataframe\">\n",
       "  <thead>\n",
       "    <tr style=\"text-align: right;\">\n",
       "      <th></th>\n",
       "      <th>대여일시</th>\n",
       "      <th>대여 대여소번호</th>\n",
       "      <th>대여 대여소명</th>\n",
       "      <th>반납일시</th>\n",
       "      <th>반납대여소번호</th>\n",
       "      <th>반납대여소명</th>\n",
       "      <th>이용시간</th>\n",
       "      <th>이용거리</th>\n",
       "      <th>대여날짜</th>\n",
       "      <th>대여시간</th>\n",
       "      <th>반납시간</th>\n",
       "    </tr>\n",
       "  </thead>\n",
       "  <tbody>\n",
       "    <tr>\n",
       "      <th>0</th>\n",
       "      <td>2021-01-02 20:50:36</td>\n",
       "      <td>3</td>\n",
       "      <td>중랑센터</td>\n",
       "      <td>2021-01-02 21:15:41</td>\n",
       "      <td>668</td>\n",
       "      <td>서울축산농협(장안지점)</td>\n",
       "      <td>25.0</td>\n",
       "      <td>0.00</td>\n",
       "      <td>2021-01-02</td>\n",
       "      <td>20</td>\n",
       "      <td>21</td>\n",
       "    </tr>\n",
       "    <tr>\n",
       "      <th>1</th>\n",
       "      <td>2021-01-04 16:02:12</td>\n",
       "      <td>3</td>\n",
       "      <td>중랑센터</td>\n",
       "      <td>2021-01-04 16:17:06</td>\n",
       "      <td>668</td>\n",
       "      <td>서울축산농협(장안지점)</td>\n",
       "      <td>14.0</td>\n",
       "      <td>0.00</td>\n",
       "      <td>2021-01-04</td>\n",
       "      <td>16</td>\n",
       "      <td>16</td>\n",
       "    </tr>\n",
       "    <tr>\n",
       "      <th>2</th>\n",
       "      <td>2021-01-13 21:02:05</td>\n",
       "      <td>3</td>\n",
       "      <td>중랑센터</td>\n",
       "      <td>2021-01-13 21:14:04</td>\n",
       "      <td>668</td>\n",
       "      <td>서울축산농협(장안지점)</td>\n",
       "      <td>11.0</td>\n",
       "      <td>1853.99</td>\n",
       "      <td>2021-01-13</td>\n",
       "      <td>21</td>\n",
       "      <td>21</td>\n",
       "    </tr>\n",
       "  </tbody>\n",
       "</table>\n",
       "</div>"
      ],
      "text/plain": [
       "                 대여일시 대여 대여소번호 대여 대여소명                반납일시 반납대여소번호  \\\n",
       "0 2021-01-02 20:50:36        3    중랑센터 2021-01-02 21:15:41     668   \n",
       "1 2021-01-04 16:02:12        3    중랑센터 2021-01-04 16:17:06     668   \n",
       "2 2021-01-13 21:02:05        3    중랑센터 2021-01-13 21:14:04     668   \n",
       "\n",
       "         반납대여소명  이용시간     이용거리        대여날짜  대여시간  반납시간  \n",
       "0  서울축산농협(장안지점)  25.0     0.00  2021-01-02    20    21  \n",
       "1  서울축산농협(장안지점)  14.0     0.00  2021-01-04    16    16  \n",
       "2  서울축산농협(장안지점)  11.0  1853.99  2021-01-13    21    21  "
      ]
     },
     "execution_count": 84,
     "metadata": {},
     "output_type": "execute_result"
    }
   ],
   "source": [
    "df.head(3)"
   ]
  },
  {
   "cell_type": "code",
   "execution_count": 88,
   "id": "cdd3b4d3",
   "metadata": {},
   "outputs": [],
   "source": [
    "# 시간대별 대여현황\n",
    "s_rental=df[\"대여시간\"].value_counts()"
   ]
  },
  {
   "cell_type": "code",
   "execution_count": 87,
   "id": "01786216",
   "metadata": {},
   "outputs": [],
   "source": [
    "# 시간대별 반납현황\n",
    "s_return=df[\"반납시간\"].value_counts()"
   ]
  },
  {
   "cell_type": "markdown",
   "id": "0a305d7d",
   "metadata": {},
   "source": [
    "## 시각화"
   ]
  },
  {
   "cell_type": "code",
   "execution_count": 99,
   "id": "82ec1764",
   "metadata": {
    "scrolled": true
   },
   "outputs": [
    {
     "data": {
      "image/png": "[encoded data removed]",
      "text/plain": [
       "<Figure size 640x480 with 1 Axes>"
      ]
     },
     "metadata": {},
     "output_type": "display_data"
    }
   ],
   "source": [
    "# 시간대별 공공자전거 대여건수 시각화\n",
    "s_rental = s_rental.sort_index()\n",
    "\n",
    "y = s_rental.values\n",
    "x = s_rental.index\n",
    "\n",
    "plt.bar(x,y,color=\"skyblue\")\n",
    "plt.title(\"서울시 공공자전거 시간대 별 대여건수\")\n",
    "plt.xlabel(\"대여시간\")\n",
    "plt.ylabel(\"대여건수\")\n",
    "plt.show()"
   ]
  },
  {
   "cell_type": "code",
   "execution_count": 100,
   "id": "cad86da4",
   "metadata": {
    "scrolled": false
   },
   "outputs": [
    {
     "data": {
      "image/png": "[encoded data removed]",
      "text/plain": [
       "<Figure size 640x480 with 1 Axes>"
      ]
     },
     "metadata": {},
     "output_type": "display_data"
    }
   ],
   "source": [
    "# 시간대별 공공자전거 반납건수 시각화\n",
    "s_return = s_return.sort_index()\n",
    "\n",
    "y = s_return.values\n",
    "x = s_return.index\n",
    "\n",
    "plt.bar(x,y,color=\"skyblue\")\n",
    "plt.title(\"서울시 공공자전거 시간대 별 반납건수\")\n",
    "plt.xlabel(\"반납시간\")\n",
    "plt.ylabel(\"반납건수\")\n",
    "plt.show()"
   ]
  },
  {
   "cell_type": "markdown",
   "id": "db5483b0",
   "metadata": {},
   "source": [
    "# 대여소별 대여/반납 현황"
   ]
  },
  {
   "cell_type": "markdown",
   "id": "b0bd86ec",
   "metadata": {},
   "source": [
    "## 대여소 현황"
   ]
  },
  {
   "cell_type": "code",
   "execution_count": 103,
   "id": "d2ed7827",
   "metadata": {},
   "outputs": [
    {
     "data": {
      "text/plain": [
       "2493"
      ]
     },
     "execution_count": 103,
     "metadata": {},
     "output_type": "execute_result"
    }
   ],
   "source": [
    "# 대여 대여소번호 갯수\n",
    "df[\"대여 대여소번호\"].nunique()\n",
    "#몇 개의 대여소가 있는지 파악"
   ]
  },
  {
   "cell_type": "code",
   "execution_count": 104,
   "id": "f3cad82c",
   "metadata": {
    "scrolled": true
   },
   "outputs": [
    {
     "data": {
      "text/plain": [
       "4674"
      ]
     },
     "execution_count": 104,
     "metadata": {},
     "output_type": "execute_result"
    }
   ],
   "source": [
    "# 반납대여소번호 갯수\n",
    "df[\"반납대여소번호\"].nunique()"
   ]
  },
  {
   "cell_type": "code",
   "execution_count": 110,
   "metadata": {},
   "outputs": [
    {
     "data": {
      "text/plain": [
       "0            668\n",
       "1            668\n",
       "2            668\n",
       "3            668\n",
       "4            540\n",
       "           ...  \n",
       "3445939    00126\n",
       "3445940    00437\n",
       "3445941    00437\n",
       "3445942    02526\n",
       "3445943    02526\n",
       "Name: 반납대여소번호, Length: 13613604, dtype: object"
      ]
     },
     "execution_count": 110,
     "metadata": {},
     "output_type": "execute_result"
    }
   ],
   "source": [
    "df[\"반납대여소번호\"]"
   ]
  },
  {
   "cell_type": "code",
   "execution_count": 111,
   "id": "0719fdd6",
   "metadata": {},
   "outputs": [],
   "source": [
    "# 반납대여소 번호 처리 (str형으로 변환)\n",
    "df[\"반납대여소번호\"]=df[\"반납대여소번호\"].astype(\"str\")"
   ]
  },
  {
   "cell_type": "code",
   "execution_count": 112,
   "id": "78bfb89a",
   "metadata": {},
   "outputs": [],
   "source": [
    "# 반납대여소 번호 처리 (왼쪽의 '0' 제거)\n",
    "df[\"반납대여소번호\"]=df[\"반납대여소번호\"].str.lstrip(\"0\")"
   ]
  },
  {
   "cell_type": "code",
   "execution_count": 115,
   "id": "30023227",
   "metadata": {},
   "outputs": [],
   "source": [
    "# 반납대여소 번호 처리 (int형으로 변환)\n",
    "df[\"반납대여소번호\"]=df[\"반납대여소번호\"].astype(\"int\")"
   ]
  },
  {
   "cell_type": "code",
   "execution_count": 116,
   "id": "96c55adc",
   "metadata": {},
   "outputs": [],
   "source": [
    "# 반납대여소 번호 처리 (category형으로 변환)\n",
    "df[\"반납대여소번호\"]=df[\"반납대여소번호\"].astype(\"category\")"
   ]
  },
  {
   "cell_type": "code",
   "execution_count": 117,
   "id": "bfd0872e",
   "metadata": {
    "scrolled": true
   },
   "outputs": [
    {
     "data": {
      "text/plain": [
       "0           668\n",
       "1           668\n",
       "2           668\n",
       "3           668\n",
       "4           540\n",
       "           ... \n",
       "3445939     126\n",
       "3445940     437\n",
       "3445941     437\n",
       "3445942    2526\n",
       "3445943    2526\n",
       "Name: 반납대여소번호, Length: 13613604, dtype: category\n",
       "Categories (2493, int32): [3, 5, 10, 101, ..., 9999, 88888, 99997, 99999]"
      ]
     },
     "execution_count": 117,
     "metadata": {},
     "output_type": "execute_result"
    }
   ],
   "source": [
    "df[\"반납대여소번호\"]"
   ]
  },
  {
   "cell_type": "markdown",
   "id": "29d28349",
   "metadata": {},
   "source": [
    "## 대여건수가 가장 많은 대여소 best10"
   ]
  },
  {
   "cell_type": "code",
   "execution_count": 122,
   "id": "0835a447",
   "metadata": {
    "scrolled": false
   },
   "outputs": [
    {
     "data": {
      "text/html": [
       "<div>\n",
       "<style scoped>\n",
       "    .dataframe tbody tr th:only-of-type {\n",
       "        vertical-align: middle;\n",
       "    }\n",
       "\n",
       "    .dataframe tbody tr th {\n",
       "        vertical-align: top;\n",
       "    }\n",
       "\n",
       "    .dataframe thead th {\n",
       "        text-align: right;\n",
       "    }\n",
       "</style>\n",
       "<table border=\"1\" class=\"dataframe\">\n",
       "  <thead>\n",
       "    <tr style=\"text-align: right;\">\n",
       "      <th></th>\n",
       "      <th></th>\n",
       "      <th>count</th>\n",
       "    </tr>\n",
       "    <tr>\n",
       "      <th>대여 대여소번호</th>\n",
       "      <th>대여 대여소명</th>\n",
       "      <th></th>\n",
       "    </tr>\n",
       "  </thead>\n",
       "  <tbody>\n",
       "    <tr>\n",
       "      <th>207</th>\n",
       "      <th>여의나루역 1번출구 앞</th>\n",
       "      <td>68994</td>\n",
       "    </tr>\n",
       "    <tr>\n",
       "      <th>502</th>\n",
       "      <th>뚝섬유원지역 1번출구 앞</th>\n",
       "      <td>68588</td>\n",
       "    </tr>\n",
       "    <tr>\n",
       "      <th>152</th>\n",
       "      <th>마포구민체육센터 앞</th>\n",
       "      <td>43535</td>\n",
       "    </tr>\n",
       "    <tr>\n",
       "      <th>2102</th>\n",
       "      <th>봉림교 교통섬</th>\n",
       "      <td>43368</td>\n",
       "    </tr>\n",
       "    <tr>\n",
       "      <th>1210</th>\n",
       "      <th>롯데월드타워(잠실역2번출구 쪽)</th>\n",
       "      <td>37149</td>\n",
       "    </tr>\n",
       "    <tr>\n",
       "      <th>2715</th>\n",
       "      <th>마곡나루역 2번 출구</th>\n",
       "      <td>36988</td>\n",
       "    </tr>\n",
       "    <tr>\n",
       "      <th>2177</th>\n",
       "      <th>신대방역 2번 출구</th>\n",
       "      <td>31971</td>\n",
       "    </tr>\n",
       "    <tr>\n",
       "      <th>272</th>\n",
       "      <th>당산육갑문</th>\n",
       "      <td>31527</td>\n",
       "    </tr>\n",
       "    <tr>\n",
       "      <th>210</th>\n",
       "      <th>IFC몰</th>\n",
       "      <td>31443</td>\n",
       "    </tr>\n",
       "    <tr>\n",
       "      <th>565</th>\n",
       "      <th>옥수역 3번출구</th>\n",
       "      <td>29811</td>\n",
       "    </tr>\n",
       "  </tbody>\n",
       "</table>\n",
       "</div>"
      ],
      "text/plain": [
       "                            count\n",
       "대여 대여소번호 대여 대여소명                 \n",
       "207      여의나루역 1번출구 앞       68994\n",
       "502      뚝섬유원지역 1번출구 앞      68588\n",
       "152      마포구민체육센터 앞         43535\n",
       "2102     봉림교 교통섬            43368\n",
       "1210     롯데월드타워(잠실역2번출구 쪽)  37149\n",
       "2715     마곡나루역 2번 출구        36988\n",
       "2177     신대방역 2번 출구         31971\n",
       "272      당산육갑문              31527\n",
       "210      IFC몰               31443\n",
       "565      옥수역 3번출구           29811"
      ]
     },
     "execution_count": 122,
     "metadata": {},
     "output_type": "execute_result"
    }
   ],
   "source": [
    "# value_counts\n",
    "df[[\"대여 대여소번호\",\"대여 대여소명\"]].value_counts().to_frame()[:10]"
   ]
  },
  {
   "cell_type": "markdown",
   "id": "65211f9b",
   "metadata": {},
   "source": [
    "## 반납건수가 가장 많은 대여소 best10"
   ]
  },
  {
   "cell_type": "code",
   "execution_count": 124,
   "id": "d629fea6",
   "metadata": {
    "scrolled": false
   },
   "outputs": [
    {
     "data": {
      "text/html": [
       "<div>\n",
       "<style scoped>\n",
       "    .dataframe tbody tr th:only-of-type {\n",
       "        vertical-align: middle;\n",
       "    }\n",
       "\n",
       "    .dataframe tbody tr th {\n",
       "        vertical-align: top;\n",
       "    }\n",
       "\n",
       "    .dataframe thead th {\n",
       "        text-align: right;\n",
       "    }\n",
       "</style>\n",
       "<table border=\"1\" class=\"dataframe\">\n",
       "  <thead>\n",
       "    <tr style=\"text-align: right;\">\n",
       "      <th></th>\n",
       "      <th></th>\n",
       "      <th>count</th>\n",
       "    </tr>\n",
       "    <tr>\n",
       "      <th>반납대여소번호</th>\n",
       "      <th>반납대여소명</th>\n",
       "      <th></th>\n",
       "    </tr>\n",
       "  </thead>\n",
       "  <tbody>\n",
       "    <tr>\n",
       "      <th>502</th>\n",
       "      <th>뚝섬유원지역 1번출구 앞</th>\n",
       "      <td>78958</td>\n",
       "    </tr>\n",
       "    <tr>\n",
       "      <th>207</th>\n",
       "      <th>여의나루역 1번출구 앞</th>\n",
       "      <td>68966</td>\n",
       "    </tr>\n",
       "    <tr>\n",
       "      <th>152</th>\n",
       "      <th>마포구민체육센터 앞</th>\n",
       "      <td>50607</td>\n",
       "    </tr>\n",
       "    <tr>\n",
       "      <th>2102</th>\n",
       "      <th>봉림교 교통섬</th>\n",
       "      <td>44572</td>\n",
       "    </tr>\n",
       "    <tr>\n",
       "      <th>1210</th>\n",
       "      <th>롯데월드타워(잠실역2번출구 쪽)</th>\n",
       "      <td>37344</td>\n",
       "    </tr>\n",
       "    <tr>\n",
       "      <th>2715</th>\n",
       "      <th>마곡나루역 2번 출구</th>\n",
       "      <td>36876</td>\n",
       "    </tr>\n",
       "    <tr>\n",
       "      <th>272</th>\n",
       "      <th>당산육갑문</th>\n",
       "      <td>34276</td>\n",
       "    </tr>\n",
       "    <tr>\n",
       "      <th>210</th>\n",
       "      <th>IFC몰</th>\n",
       "      <td>33758</td>\n",
       "    </tr>\n",
       "    <tr>\n",
       "      <th>2177</th>\n",
       "      <th>신대방역 2번 출구</th>\n",
       "      <td>33159</td>\n",
       "    </tr>\n",
       "    <tr>\n",
       "      <th>565</th>\n",
       "      <th>옥수역 3번출구</th>\n",
       "      <td>32381</td>\n",
       "    </tr>\n",
       "  </tbody>\n",
       "</table>\n",
       "</div>"
      ],
      "text/plain": [
       "                           count\n",
       "반납대여소번호 반납대여소명                  \n",
       "502     뚝섬유원지역 1번출구 앞      78958\n",
       "207     여의나루역 1번출구 앞       68966\n",
       "152     마포구민체육센터 앞         50607\n",
       "2102    봉림교 교통섬            44572\n",
       "1210    롯데월드타워(잠실역2번출구 쪽)  37344\n",
       "2715    마곡나루역 2번 출구        36876\n",
       "272     당산육갑문              34276\n",
       "210     IFC몰               33758\n",
       "2177    신대방역 2번 출구         33159\n",
       "565     옥수역 3번출구           32381"
      ]
     },
     "execution_count": 124,
     "metadata": {},
     "output_type": "execute_result"
    }
   ],
   "source": [
    "# value_counts\n",
    "df[[\"반납대여소번호\",\"반납대여소명\"]].value_counts().to_frame()[:10]"
   ]
  },
  {
   "cell_type": "markdown",
   "id": "cd4dd77f",
   "metadata": {},
   "source": [
    "## 여의나루역 1번출구 앞 대여소 이용현황"
   ]
  },
  {
   "cell_type": "markdown",
   "id": "1361c5fb",
   "metadata": {},
   "source": [
    "### 서브셋 만들기"
   ]
  },
  {
   "cell_type": "code",
   "execution_count": 126,
   "id": "d635995d",
   "metadata": {
    "scrolled": false
   },
   "outputs": [
    {
     "data": {
      "text/html": [
       "<div>\n",
       "<style scoped>\n",
       "    .dataframe tbody tr th:only-of-type {\n",
       "        vertical-align: middle;\n",
       "    }\n",
       "\n",
       "    .dataframe tbody tr th {\n",
       "        vertical-align: top;\n",
       "    }\n",
       "\n",
       "    .dataframe thead th {\n",
       "        text-align: right;\n",
       "    }\n",
       "</style>\n",
       "<table border=\"1\" class=\"dataframe\">\n",
       "  <thead>\n",
       "    <tr style=\"text-align: right;\">\n",
       "      <th></th>\n",
       "      <th>대여일시</th>\n",
       "      <th>대여 대여소번호</th>\n",
       "      <th>대여 대여소명</th>\n",
       "      <th>반납일시</th>\n",
       "      <th>반납대여소번호</th>\n",
       "      <th>반납대여소명</th>\n",
       "      <th>이용시간</th>\n",
       "      <th>이용거리</th>\n",
       "      <th>대여날짜</th>\n",
       "      <th>대여시간</th>\n",
       "      <th>반납시간</th>\n",
       "    </tr>\n",
       "  </thead>\n",
       "  <tbody>\n",
       "    <tr>\n",
       "      <th>45838</th>\n",
       "      <td>2021-01-01 01:05:49</td>\n",
       "      <td>207</td>\n",
       "      <td>여의나루역 1번출구 앞</td>\n",
       "      <td>2021-01-01 01:16:29</td>\n",
       "      <td>201</td>\n",
       "      <td>진미파라곤 앞</td>\n",
       "      <td>10.0</td>\n",
       "      <td>0.00</td>\n",
       "      <td>2021-01-01</td>\n",
       "      <td>1</td>\n",
       "      <td>1</td>\n",
       "    </tr>\n",
       "    <tr>\n",
       "      <th>45839</th>\n",
       "      <td>2021-01-01 04:28:45</td>\n",
       "      <td>207</td>\n",
       "      <td>여의나루역 1번출구 앞</td>\n",
       "      <td>2021-01-01 04:48:23</td>\n",
       "      <td>493</td>\n",
       "      <td>홍대입구역 6번출구</td>\n",
       "      <td>19.0</td>\n",
       "      <td>0.00</td>\n",
       "      <td>2021-01-01</td>\n",
       "      <td>4</td>\n",
       "      <td>4</td>\n",
       "    </tr>\n",
       "    <tr>\n",
       "      <th>45840</th>\n",
       "      <td>2021-01-01 09:39:23</td>\n",
       "      <td>207</td>\n",
       "      <td>여의나루역 1번출구 앞</td>\n",
       "      <td>2021-01-01 09:45:33</td>\n",
       "      <td>223</td>\n",
       "      <td>진주아파트상가 앞</td>\n",
       "      <td>6.0</td>\n",
       "      <td>877.23</td>\n",
       "      <td>2021-01-01</td>\n",
       "      <td>9</td>\n",
       "      <td>9</td>\n",
       "    </tr>\n",
       "    <tr>\n",
       "      <th>45841</th>\n",
       "      <td>2021-01-01 10:50:10</td>\n",
       "      <td>207</td>\n",
       "      <td>여의나루역 1번출구 앞</td>\n",
       "      <td>2021-01-01 11:17:49</td>\n",
       "      <td>207</td>\n",
       "      <td>여의나루역 1번출구 앞</td>\n",
       "      <td>27.0</td>\n",
       "      <td>0.00</td>\n",
       "      <td>2021-01-01</td>\n",
       "      <td>10</td>\n",
       "      <td>11</td>\n",
       "    </tr>\n",
       "    <tr>\n",
       "      <th>45842</th>\n",
       "      <td>2021-01-01 11:01:44</td>\n",
       "      <td>207</td>\n",
       "      <td>여의나루역 1번출구 앞</td>\n",
       "      <td>2021-01-01 11:19:02</td>\n",
       "      <td>207</td>\n",
       "      <td>여의나루역 1번출구 앞</td>\n",
       "      <td>17.0</td>\n",
       "      <td>0.00</td>\n",
       "      <td>2021-01-01</td>\n",
       "      <td>11</td>\n",
       "      <td>11</td>\n",
       "    </tr>\n",
       "    <tr>\n",
       "      <th>...</th>\n",
       "      <td>...</td>\n",
       "      <td>...</td>\n",
       "      <td>...</td>\n",
       "      <td>...</td>\n",
       "      <td>...</td>\n",
       "      <td>...</td>\n",
       "      <td>...</td>\n",
       "      <td>...</td>\n",
       "      <td>...</td>\n",
       "      <td>...</td>\n",
       "      <td>...</td>\n",
       "    </tr>\n",
       "    <tr>\n",
       "      <th>3445365</th>\n",
       "      <td>2021-06-30 22:34:23</td>\n",
       "      <td>207</td>\n",
       "      <td>여의나루역 1번출구 앞</td>\n",
       "      <td>2021-07-01 00:12:03</td>\n",
       "      <td>4526</td>\n",
       "      <td>목동아파트2단지 222동 앞</td>\n",
       "      <td>97.0</td>\n",
       "      <td>9268.32</td>\n",
       "      <td>2021-06-30</td>\n",
       "      <td>22</td>\n",
       "      <td>0</td>\n",
       "    </tr>\n",
       "    <tr>\n",
       "      <th>3445420</th>\n",
       "      <td>2021-06-30 22:36:03</td>\n",
       "      <td>207</td>\n",
       "      <td>여의나루역 1번출구 앞</td>\n",
       "      <td>2021-07-01 00:12:31</td>\n",
       "      <td>1148</td>\n",
       "      <td>볏골공원</td>\n",
       "      <td>96.0</td>\n",
       "      <td>10957.26</td>\n",
       "      <td>2021-06-30</td>\n",
       "      <td>22</td>\n",
       "      <td>0</td>\n",
       "    </tr>\n",
       "    <tr>\n",
       "      <th>3445452</th>\n",
       "      <td>2021-06-30 22:36:11</td>\n",
       "      <td>207</td>\n",
       "      <td>여의나루역 1번출구 앞</td>\n",
       "      <td>2021-07-01 00:12:44</td>\n",
       "      <td>704</td>\n",
       "      <td>남부법원검찰청 교차로</td>\n",
       "      <td>96.0</td>\n",
       "      <td>11358.59</td>\n",
       "      <td>2021-06-30</td>\n",
       "      <td>22</td>\n",
       "      <td>0</td>\n",
       "    </tr>\n",
       "    <tr>\n",
       "      <th>3445463</th>\n",
       "      <td>2021-06-30 22:53:04</td>\n",
       "      <td>207</td>\n",
       "      <td>여의나루역 1번출구 앞</td>\n",
       "      <td>2021-07-01 00:12:47</td>\n",
       "      <td>207</td>\n",
       "      <td>여의나루역 1번출구 앞</td>\n",
       "      <td>80.0</td>\n",
       "      <td>0.00</td>\n",
       "      <td>2021-06-30</td>\n",
       "      <td>22</td>\n",
       "      <td>0</td>\n",
       "    </tr>\n",
       "    <tr>\n",
       "      <th>3445487</th>\n",
       "      <td>2021-06-30 22:02:53</td>\n",
       "      <td>207</td>\n",
       "      <td>여의나루역 1번출구 앞</td>\n",
       "      <td>2021-07-01 00:13:00</td>\n",
       "      <td>2715</td>\n",
       "      <td>마곡나루역 2번 출구</td>\n",
       "      <td>130.0</td>\n",
       "      <td>13337.80</td>\n",
       "      <td>2021-06-30</td>\n",
       "      <td>22</td>\n",
       "      <td>0</td>\n",
       "    </tr>\n",
       "  </tbody>\n",
       "</table>\n",
       "<p>68995 rows × 11 columns</p>\n",
       "</div>"
      ],
      "text/plain": [
       "                       대여일시 대여 대여소번호       대여 대여소명                반납일시  \\\n",
       "45838   2021-01-01 01:05:49      207  여의나루역 1번출구 앞 2021-01-01 01:16:29   \n",
       "45839   2021-01-01 04:28:45      207  여의나루역 1번출구 앞 2021-01-01 04:48:23   \n",
       "45840   2021-01-01 09:39:23      207  여의나루역 1번출구 앞 2021-01-01 09:45:33   \n",
       "45841   2021-01-01 10:50:10      207  여의나루역 1번출구 앞 2021-01-01 11:17:49   \n",
       "45842   2021-01-01 11:01:44      207  여의나루역 1번출구 앞 2021-01-01 11:19:02   \n",
       "...                     ...      ...           ...                 ...   \n",
       "3445365 2021-06-30 22:34:23      207  여의나루역 1번출구 앞 2021-07-01 00:12:03   \n",
       "3445420 2021-06-30 22:36:03      207  여의나루역 1번출구 앞 2021-07-01 00:12:31   \n",
       "3445452 2021-06-30 22:36:11      207  여의나루역 1번출구 앞 2021-07-01 00:12:44   \n",
       "3445463 2021-06-30 22:53:04      207  여의나루역 1번출구 앞 2021-07-01 00:12:47   \n",
       "3445487 2021-06-30 22:02:53      207  여의나루역 1번출구 앞 2021-07-01 00:13:00   \n",
       "\n",
       "        반납대여소번호           반납대여소명   이용시간      이용거리        대여날짜  대여시간  반납시간  \n",
       "45838       201          진미파라곤 앞   10.0      0.00  2021-01-01     1     1  \n",
       "45839       493       홍대입구역 6번출구   19.0      0.00  2021-01-01     4     4  \n",
       "45840       223        진주아파트상가 앞    6.0    877.23  2021-01-01     9     9  \n",
       "45841       207     여의나루역 1번출구 앞   27.0      0.00  2021-01-01    10    11  \n",
       "45842       207     여의나루역 1번출구 앞   17.0      0.00  2021-01-01    11    11  \n",
       "...         ...              ...    ...       ...         ...   ...   ...  \n",
       "3445365    4526  목동아파트2단지 222동 앞   97.0   9268.32  2021-06-30    22     0  \n",
       "3445420    1148             볏골공원   96.0  10957.26  2021-06-30    22     0  \n",
       "3445452     704      남부법원검찰청 교차로   96.0  11358.59  2021-06-30    22     0  \n",
       "3445463     207     여의나루역 1번출구 앞   80.0      0.00  2021-06-30    22     0  \n",
       "3445487    2715      마곡나루역 2번 출구  130.0  13337.80  2021-06-30    22     0  \n",
       "\n",
       "[68995 rows x 11 columns]"
      ]
     },
     "execution_count": 126,
     "metadata": {},
     "output_type": "execute_result"
    }
   ],
   "source": [
    "df_207 = df[df[\"대여 대여소번호\"]==207]\n",
    "df_207"
   ]
  },
  {
   "cell_type": "markdown",
   "id": "ceb3f2f2",
   "metadata": {},
   "source": [
    "### 반납 현황"
   ]
  },
  {
   "cell_type": "code",
   "execution_count": 127,
   "id": "09cc102e",
   "metadata": {
    "scrolled": false
   },
   "outputs": [
    {
     "data": {
      "text/html": [
       "<div>\n",
       "<style scoped>\n",
       "    .dataframe tbody tr th:only-of-type {\n",
       "        vertical-align: middle;\n",
       "    }\n",
       "\n",
       "    .dataframe tbody tr th {\n",
       "        vertical-align: top;\n",
       "    }\n",
       "\n",
       "    .dataframe thead th {\n",
       "        text-align: right;\n",
       "    }\n",
       "</style>\n",
       "<table border=\"1\" class=\"dataframe\">\n",
       "  <thead>\n",
       "    <tr style=\"text-align: right;\">\n",
       "      <th></th>\n",
       "      <th></th>\n",
       "      <th>count</th>\n",
       "    </tr>\n",
       "    <tr>\n",
       "      <th>반납대여소번호</th>\n",
       "      <th>반납대여소명</th>\n",
       "      <th></th>\n",
       "    </tr>\n",
       "  </thead>\n",
       "  <tbody>\n",
       "    <tr>\n",
       "      <th>207</th>\n",
       "      <th>여의나루역 1번출구 앞</th>\n",
       "      <td>18347</td>\n",
       "    </tr>\n",
       "    <tr>\n",
       "      <th>202</th>\n",
       "      <th>국민일보 앞</th>\n",
       "      <td>2006</td>\n",
       "    </tr>\n",
       "    <tr>\n",
       "      <th>222</th>\n",
       "      <th>시범아파트버스정류장 옆</th>\n",
       "      <td>1588</td>\n",
       "    </tr>\n",
       "    <tr>\n",
       "      <th>249</th>\n",
       "      <th>여의도중학교 옆</th>\n",
       "      <td>1525</td>\n",
       "    </tr>\n",
       "    <tr>\n",
       "      <th>272</th>\n",
       "      <th>당산육갑문</th>\n",
       "      <td>1269</td>\n",
       "    </tr>\n",
       "    <tr>\n",
       "      <th>221</th>\n",
       "      <th>여의도초교 앞</th>\n",
       "      <td>1209</td>\n",
       "    </tr>\n",
       "    <tr>\n",
       "      <th>210</th>\n",
       "      <th>IFC몰</th>\n",
       "      <td>1063</td>\n",
       "    </tr>\n",
       "    <tr>\n",
       "      <th>215</th>\n",
       "      <th>여의도고교 앞</th>\n",
       "      <td>986</td>\n",
       "    </tr>\n",
       "    <tr>\n",
       "      <th>217</th>\n",
       "      <th>NH농협은행 앞</th>\n",
       "      <td>979</td>\n",
       "    </tr>\n",
       "    <tr>\n",
       "      <th>147</th>\n",
       "      <th>마포역 4번출구 뒤</th>\n",
       "      <td>796</td>\n",
       "    </tr>\n",
       "  </tbody>\n",
       "</table>\n",
       "</div>"
      ],
      "text/plain": [
       "                      count\n",
       "반납대여소번호 반납대여소명             \n",
       "207     여의나루역 1번출구 앞  18347\n",
       "202     국민일보 앞         2006\n",
       "222     시범아파트버스정류장 옆   1588\n",
       "249     여의도중학교 옆       1525\n",
       "272     당산육갑문          1269\n",
       "221     여의도초교 앞        1209\n",
       "210     IFC몰           1063\n",
       "215     여의도고교 앞         986\n",
       "217     NH농협은행 앞        979\n",
       "147     마포역 4번출구 뒤      796"
      ]
     },
     "execution_count": 127,
     "metadata": {},
     "output_type": "execute_result"
    }
   ],
   "source": [
    "# value_counts\n",
    "df_207[[\"반납대여소번호\",\"반납대여소명\"]].value_counts().to_frame()[:10]\n"
   ]
  },
  {
   "cell_type": "markdown",
   "id": "f0317a45",
   "metadata": {},
   "source": [
    "### 요일별 대여현황"
   ]
  },
  {
   "cell_type": "code",
   "execution_count": 128,
   "id": "ad19452b",
   "metadata": {
    "scrolled": false
   },
   "outputs": [
    {
     "name": "stderr",
     "output_type": "stream",
     "text": [
      "C:\\Users\\khm98\\AppData\\Local\\Temp\\ipykernel_14656\\2273999959.py:2: SettingWithCopyWarning: \n",
      "A value is trying to be set on a copy of a slice from a DataFrame.\n",
      "Try using .loc[row_indexer,col_indexer] = value instead\n",
      "\n",
      "See the caveats in the documentation: https://pandas.pydata.org/pandas-docs/stable/user_guide/indexing.html#returning-a-view-versus-a-copy\n",
      "  df_207[\"대여요일\"]=df_207[\"대여일시\"].dt.strftime(\"%a\")\n"
     ]
    }
   ],
   "source": [
    "#요일컬럼 추가 : strftime('%a')\n",
    "df_207[\"대여요일\"]=df_207[\"대여일시\"].dt.strftime(\"%a\")"
   ]
  },
  {
   "cell_type": "code",
   "execution_count": 129,
   "id": "64a3d65a",
   "metadata": {},
   "outputs": [
    {
     "data": {
      "text/html": [
       "<div>\n",
       "<style scoped>\n",
       "    .dataframe tbody tr th:only-of-type {\n",
       "        vertical-align: middle;\n",
       "    }\n",
       "\n",
       "    .dataframe tbody tr th {\n",
       "        vertical-align: top;\n",
       "    }\n",
       "\n",
       "    .dataframe thead th {\n",
       "        text-align: right;\n",
       "    }\n",
       "</style>\n",
       "<table border=\"1\" class=\"dataframe\">\n",
       "  <thead>\n",
       "    <tr style=\"text-align: right;\">\n",
       "      <th></th>\n",
       "      <th>대여일시</th>\n",
       "      <th>대여 대여소번호</th>\n",
       "      <th>대여 대여소명</th>\n",
       "      <th>반납일시</th>\n",
       "      <th>반납대여소번호</th>\n",
       "      <th>반납대여소명</th>\n",
       "      <th>이용시간</th>\n",
       "      <th>이용거리</th>\n",
       "      <th>대여날짜</th>\n",
       "      <th>대여시간</th>\n",
       "      <th>반납시간</th>\n",
       "      <th>대여요일</th>\n",
       "    </tr>\n",
       "  </thead>\n",
       "  <tbody>\n",
       "    <tr>\n",
       "      <th>45838</th>\n",
       "      <td>2021-01-01 01:05:49</td>\n",
       "      <td>207</td>\n",
       "      <td>여의나루역 1번출구 앞</td>\n",
       "      <td>2021-01-01 01:16:29</td>\n",
       "      <td>201</td>\n",
       "      <td>진미파라곤 앞</td>\n",
       "      <td>10.0</td>\n",
       "      <td>0.00</td>\n",
       "      <td>2021-01-01</td>\n",
       "      <td>1</td>\n",
       "      <td>1</td>\n",
       "      <td>Fri</td>\n",
       "    </tr>\n",
       "    <tr>\n",
       "      <th>45839</th>\n",
       "      <td>2021-01-01 04:28:45</td>\n",
       "      <td>207</td>\n",
       "      <td>여의나루역 1번출구 앞</td>\n",
       "      <td>2021-01-01 04:48:23</td>\n",
       "      <td>493</td>\n",
       "      <td>홍대입구역 6번출구</td>\n",
       "      <td>19.0</td>\n",
       "      <td>0.00</td>\n",
       "      <td>2021-01-01</td>\n",
       "      <td>4</td>\n",
       "      <td>4</td>\n",
       "      <td>Fri</td>\n",
       "    </tr>\n",
       "    <tr>\n",
       "      <th>45840</th>\n",
       "      <td>2021-01-01 09:39:23</td>\n",
       "      <td>207</td>\n",
       "      <td>여의나루역 1번출구 앞</td>\n",
       "      <td>2021-01-01 09:45:33</td>\n",
       "      <td>223</td>\n",
       "      <td>진주아파트상가 앞</td>\n",
       "      <td>6.0</td>\n",
       "      <td>877.23</td>\n",
       "      <td>2021-01-01</td>\n",
       "      <td>9</td>\n",
       "      <td>9</td>\n",
       "      <td>Fri</td>\n",
       "    </tr>\n",
       "    <tr>\n",
       "      <th>45841</th>\n",
       "      <td>2021-01-01 10:50:10</td>\n",
       "      <td>207</td>\n",
       "      <td>여의나루역 1번출구 앞</td>\n",
       "      <td>2021-01-01 11:17:49</td>\n",
       "      <td>207</td>\n",
       "      <td>여의나루역 1번출구 앞</td>\n",
       "      <td>27.0</td>\n",
       "      <td>0.00</td>\n",
       "      <td>2021-01-01</td>\n",
       "      <td>10</td>\n",
       "      <td>11</td>\n",
       "      <td>Fri</td>\n",
       "    </tr>\n",
       "    <tr>\n",
       "      <th>45842</th>\n",
       "      <td>2021-01-01 11:01:44</td>\n",
       "      <td>207</td>\n",
       "      <td>여의나루역 1번출구 앞</td>\n",
       "      <td>2021-01-01 11:19:02</td>\n",
       "      <td>207</td>\n",
       "      <td>여의나루역 1번출구 앞</td>\n",
       "      <td>17.0</td>\n",
       "      <td>0.00</td>\n",
       "      <td>2021-01-01</td>\n",
       "      <td>11</td>\n",
       "      <td>11</td>\n",
       "      <td>Fri</td>\n",
       "    </tr>\n",
       "    <tr>\n",
       "      <th>...</th>\n",
       "      <td>...</td>\n",
       "      <td>...</td>\n",
       "      <td>...</td>\n",
       "      <td>...</td>\n",
       "      <td>...</td>\n",
       "      <td>...</td>\n",
       "      <td>...</td>\n",
       "      <td>...</td>\n",
       "      <td>...</td>\n",
       "      <td>...</td>\n",
       "      <td>...</td>\n",
       "      <td>...</td>\n",
       "    </tr>\n",
       "    <tr>\n",
       "      <th>3445365</th>\n",
       "      <td>2021-06-30 22:34:23</td>\n",
       "      <td>207</td>\n",
       "      <td>여의나루역 1번출구 앞</td>\n",
       "      <td>2021-07-01 00:12:03</td>\n",
       "      <td>4526</td>\n",
       "      <td>목동아파트2단지 222동 앞</td>\n",
       "      <td>97.0</td>\n",
       "      <td>9268.32</td>\n",
       "      <td>2021-06-30</td>\n",
       "      <td>22</td>\n",
       "      <td>0</td>\n",
       "      <td>Wed</td>\n",
       "    </tr>\n",
       "    <tr>\n",
       "      <th>3445420</th>\n",
       "      <td>2021-06-30 22:36:03</td>\n",
       "      <td>207</td>\n",
       "      <td>여의나루역 1번출구 앞</td>\n",
       "      <td>2021-07-01 00:12:31</td>\n",
       "      <td>1148</td>\n",
       "      <td>볏골공원</td>\n",
       "      <td>96.0</td>\n",
       "      <td>10957.26</td>\n",
       "      <td>2021-06-30</td>\n",
       "      <td>22</td>\n",
       "      <td>0</td>\n",
       "      <td>Wed</td>\n",
       "    </tr>\n",
       "    <tr>\n",
       "      <th>3445452</th>\n",
       "      <td>2021-06-30 22:36:11</td>\n",
       "      <td>207</td>\n",
       "      <td>여의나루역 1번출구 앞</td>\n",
       "      <td>2021-07-01 00:12:44</td>\n",
       "      <td>704</td>\n",
       "      <td>남부법원검찰청 교차로</td>\n",
       "      <td>96.0</td>\n",
       "      <td>11358.59</td>\n",
       "      <td>2021-06-30</td>\n",
       "      <td>22</td>\n",
       "      <td>0</td>\n",
       "      <td>Wed</td>\n",
       "    </tr>\n",
       "    <tr>\n",
       "      <th>3445463</th>\n",
       "      <td>2021-06-30 22:53:04</td>\n",
       "      <td>207</td>\n",
       "      <td>여의나루역 1번출구 앞</td>\n",
       "      <td>2021-07-01 00:12:47</td>\n",
       "      <td>207</td>\n",
       "      <td>여의나루역 1번출구 앞</td>\n",
       "      <td>80.0</td>\n",
       "      <td>0.00</td>\n",
       "      <td>2021-06-30</td>\n",
       "      <td>22</td>\n",
       "      <td>0</td>\n",
       "      <td>Wed</td>\n",
       "    </tr>\n",
       "    <tr>\n",
       "      <th>3445487</th>\n",
       "      <td>2021-06-30 22:02:53</td>\n",
       "      <td>207</td>\n",
       "      <td>여의나루역 1번출구 앞</td>\n",
       "      <td>2021-07-01 00:13:00</td>\n",
       "      <td>2715</td>\n",
       "      <td>마곡나루역 2번 출구</td>\n",
       "      <td>130.0</td>\n",
       "      <td>13337.80</td>\n",
       "      <td>2021-06-30</td>\n",
       "      <td>22</td>\n",
       "      <td>0</td>\n",
       "      <td>Wed</td>\n",
       "    </tr>\n",
       "  </tbody>\n",
       "</table>\n",
       "<p>68995 rows × 12 columns</p>\n",
       "</div>"
      ],
      "text/plain": [
       "                       대여일시 대여 대여소번호       대여 대여소명                반납일시  \\\n",
       "45838   2021-01-01 01:05:49      207  여의나루역 1번출구 앞 2021-01-01 01:16:29   \n",
       "45839   2021-01-01 04:28:45      207  여의나루역 1번출구 앞 2021-01-01 04:48:23   \n",
       "45840   2021-01-01 09:39:23      207  여의나루역 1번출구 앞 2021-01-01 09:45:33   \n",
       "45841   2021-01-01 10:50:10      207  여의나루역 1번출구 앞 2021-01-01 11:17:49   \n",
       "45842   2021-01-01 11:01:44      207  여의나루역 1번출구 앞 2021-01-01 11:19:02   \n",
       "...                     ...      ...           ...                 ...   \n",
       "3445365 2021-06-30 22:34:23      207  여의나루역 1번출구 앞 2021-07-01 00:12:03   \n",
       "3445420 2021-06-30 22:36:03      207  여의나루역 1번출구 앞 2021-07-01 00:12:31   \n",
       "3445452 2021-06-30 22:36:11      207  여의나루역 1번출구 앞 2021-07-01 00:12:44   \n",
       "3445463 2021-06-30 22:53:04      207  여의나루역 1번출구 앞 2021-07-01 00:12:47   \n",
       "3445487 2021-06-30 22:02:53      207  여의나루역 1번출구 앞 2021-07-01 00:13:00   \n",
       "\n",
       "        반납대여소번호           반납대여소명   이용시간      이용거리        대여날짜  대여시간  반납시간 대여요일  \n",
       "45838       201          진미파라곤 앞   10.0      0.00  2021-01-01     1     1  Fri  \n",
       "45839       493       홍대입구역 6번출구   19.0      0.00  2021-01-01     4     4  Fri  \n",
       "45840       223        진주아파트상가 앞    6.0    877.23  2021-01-01     9     9  Fri  \n",
       "45841       207     여의나루역 1번출구 앞   27.0      0.00  2021-01-01    10    11  Fri  \n",
       "45842       207     여의나루역 1번출구 앞   17.0      0.00  2021-01-01    11    11  Fri  \n",
       "...         ...              ...    ...       ...         ...   ...   ...  ...  \n",
       "3445365    4526  목동아파트2단지 222동 앞   97.0   9268.32  2021-06-30    22     0  Wed  \n",
       "3445420    1148             볏골공원   96.0  10957.26  2021-06-30    22     0  Wed  \n",
       "3445452     704      남부법원검찰청 교차로   96.0  11358.59  2021-06-30    22     0  Wed  \n",
       "3445463     207     여의나루역 1번출구 앞   80.0      0.00  2021-06-30    22     0  Wed  \n",
       "3445487    2715      마곡나루역 2번 출구  130.0  13337.80  2021-06-30    22     0  Wed  \n",
       "\n",
       "[68995 rows x 12 columns]"
      ]
     },
     "execution_count": 129,
     "metadata": {},
     "output_type": "execute_result"
    }
   ],
   "source": [
    "# value_counts\n",
    "df_207"
   ]
  },
  {
   "cell_type": "code",
   "execution_count": 130,
   "metadata": {},
   "outputs": [
    {
     "data": {
      "text/plain": [
       "대여요일\n",
       "Sun    14454\n",
       "Sat    10932\n",
       "Wed    10755\n",
       "Fri     9191\n",
       "Mon     8391\n",
       "Thu     8037\n",
       "Tue     7235\n",
       "Name: count, dtype: int64"
      ]
     },
     "execution_count": 130,
     "metadata": {},
     "output_type": "execute_result"
    }
   ],
   "source": [
    "df_207[\"대여요일\"].value_counts()"
   ]
  },
  {
   "cell_type": "markdown",
   "id": "c6e7673e",
   "metadata": {},
   "source": [
    "### 이용시간 통계"
   ]
  },
  {
   "cell_type": "code",
   "execution_count": 132,
   "id": "ca6a256f",
   "metadata": {
    "scrolled": false
   },
   "outputs": [
    {
     "data": {
      "text/plain": [
       "50.28551344300312"
      ]
     },
     "execution_count": 132,
     "metadata": {},
     "output_type": "execute_result"
    }
   ],
   "source": [
    "# 이용시간 평균\n",
    "df_207[\"이용시간\"].mean()"
   ]
  },
  {
   "cell_type": "code",
   "execution_count": 133,
   "id": "77a4cfda",
   "metadata": {
    "scrolled": true
   },
   "outputs": [
    {
     "data": {
      "text/plain": [
       "1268.0"
      ]
     },
     "execution_count": 133,
     "metadata": {},
     "output_type": "execute_result"
    }
   ],
   "source": [
    "# 이용시간 최대\n",
    "df_207[\"이용시간\"].max()"
   ]
  },
  {
   "cell_type": "code",
   "execution_count": 134,
   "id": "5df61103",
   "metadata": {
    "scrolled": true
   },
   "outputs": [
    {
     "data": {
      "text/plain": [
       "1.0"
      ]
     },
     "execution_count": 134,
     "metadata": {},
     "output_type": "execute_result"
    }
   ],
   "source": [
    "# 이용시간 최소\n",
    "df_207[\"이용시간\"].min()"
   ]
  },
  {
   "cell_type": "code",
   "execution_count": 135,
   "id": "902f58af",
   "metadata": {},
   "outputs": [
    {
     "data": {
      "text/plain": [
       "27.27823322905529"
      ]
     },
     "execution_count": 135,
     "metadata": {},
     "output_type": "execute_result"
    }
   ],
   "source": [
    "# 전체데이터 이용시간 평균\n",
    "df[\"이용시간\"].mean()"
   ]
  }
 ],
 "metadata": {
  "kernelspec": {
   "display_name": "Python 3",
   "language": "python",
   "name": "python3"
  },
  "language_info": {
   "codemirror_mode": {
    "name": "ipython",
    "version": 3
   },
   "file_extension": ".py",
   "mimetype": "text/x-python",
   "name": "python",
   "nbconvert_exporter": "python",
   "pygments_lexer": "ipython3",
   "version": "3.10.11"
  },
  "toc": {
   "base_numbering": 1,
   "nav_menu": {},
   "number_sections": true,
   "sideBar": true,
   "skip_h1_title": false,
   "title_cell": "Table of Contents",
   "title_sidebar": "Contents",
   "toc_cell": false,
   "toc_position": {
    "height": "calc(100% - 180px)",
    "left": "10px",
    "top": "150px",
    "width": "307.188px"
   },
   "toc_section_display": true,
   "toc_window_display": true
  }
 },
 "nbformat": 4,
 "nbformat_minor": 5
}
