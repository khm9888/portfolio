{
 "cells": [
  {
   "cell_type": "markdown",
   "id": "a41b5569",
   "metadata": {},
   "source": [
    "# 모듈 사용하기\n",
    "* import 모듈명\n",
    "* 모듈명.함수명( )"
   ]
  },
  {
   "cell_type": "code",
   "execution_count": 1,
   "id": "b75a290c",
   "metadata": {},
   "outputs": [
    {
     "name": "stdout",
     "output_type": "stream",
     "text": [
      "3\n",
      "-1\n",
      "2\n",
      "0.5\n"
     ]
    }
   ],
   "source": [
    "import myCalc\n",
    "print(myCalc.get_plus(1,2))\n",
    "print(myCalc.get_minus(1,2))\n",
    "print(myCalc.get_multiply(1,2))\n",
    "print(myCalc.get_division(1,2))"
   ]
  },
  {
   "cell_type": "markdown",
   "id": "fb0481b8",
   "metadata": {},
   "source": [
    "# 모듈 별칭 사용하기\n",
    "* import 모듈명 as 별칭\n",
    "* 별칭.함수명()"
   ]
  },
  {
   "cell_type": "code",
   "execution_count": 3,
   "id": "44ad1724",
   "metadata": {},
   "outputs": [
    {
     "name": "stdout",
     "output_type": "stream",
     "text": [
      "3\n",
      "-1\n",
      "2\n",
      "0.5\n"
     ]
    }
   ],
   "source": [
    "import myCalc as c\n",
    "print(c.get_plus(1,2))\n",
    "print(c.get_minus(1,2))\n",
    "print(c.get_multiply(1,2))\n",
    "print(c.get_division(1,2))"
   ]
  },
  {
   "cell_type": "markdown",
   "id": "99bb6ea0",
   "metadata": {},
   "source": [
    "# 모듈 이름 붙이지 않고 함수 사용하기\n",
    "* from 모듈명 import 함수명1, 함수명2,..."
   ]
  },
  {
   "cell_type": "code",
   "execution_count": 4,
   "id": "64e88c75",
   "metadata": {
    "scrolled": true
   },
   "outputs": [
    {
     "name": "stdout",
     "output_type": "stream",
     "text": [
      "3\n",
      "-1\n"
     ]
    },
    {
     "ename": "NameError",
     "evalue": "name 'get_multiply' is not defined",
     "output_type": "error",
     "traceback": [
      "\u001b[1;31m---------------------------------------------------------------------------\u001b[0m",
      "\u001b[1;31mNameError\u001b[0m                                 Traceback (most recent call last)",
      "\u001b[1;32md:\\programming\\pythondata\\07-2 모듈과 패키지_실습.ipynb 셀 6\u001b[0m line \u001b[0;36m5\n\u001b[0;32m      <a href='vscode-notebook-cell:/d%3A/programming/pythondata/07-2%20%EB%AA%A8%EB%93%88%EA%B3%BC%20%ED%8C%A8%ED%82%A4%EC%A7%80_%EC%8B%A4%EC%8A%B5.ipynb#W5sZmlsZQ%3D%3D?line=2'>3</a>\u001b[0m \u001b[39mprint\u001b[39m(get_plus(\u001b[39m1\u001b[39m,\u001b[39m2\u001b[39m))\n\u001b[0;32m      <a href='vscode-notebook-cell:/d%3A/programming/pythondata/07-2%20%EB%AA%A8%EB%93%88%EA%B3%BC%20%ED%8C%A8%ED%82%A4%EC%A7%80_%EC%8B%A4%EC%8A%B5.ipynb#W5sZmlsZQ%3D%3D?line=3'>4</a>\u001b[0m \u001b[39mprint\u001b[39m(get_minus(\u001b[39m1\u001b[39m,\u001b[39m2\u001b[39m))\n\u001b[1;32m----> <a href='vscode-notebook-cell:/d%3A/programming/pythondata/07-2%20%EB%AA%A8%EB%93%88%EA%B3%BC%20%ED%8C%A8%ED%82%A4%EC%A7%80_%EC%8B%A4%EC%8A%B5.ipynb#W5sZmlsZQ%3D%3D?line=4'>5</a>\u001b[0m \u001b[39mprint\u001b[39m(get_multiply(\u001b[39m1\u001b[39m,\u001b[39m2\u001b[39m))\n",
      "\u001b[1;31mNameError\u001b[0m: name 'get_multiply' is not defined"
     ]
    }
   ],
   "source": [
    "from myCalc import get_plus,get_minus\n",
    "\n",
    "print(get_plus(1,2))\n",
    "print(get_minus(1,2))\n",
    "print(get_multiply(1,2))"
   ]
  },
  {
   "cell_type": "code",
   "execution_count": 5,
   "id": "845e1c80",
   "metadata": {},
   "outputs": [
    {
     "name": "stdout",
     "output_type": "stream",
     "text": [
      "3\n",
      "-1\n",
      "2\n"
     ]
    }
   ],
   "source": [
    "from myCalc import *\n",
    "\n",
    "print(get_plus(1,2))\n",
    "print(get_minus(1,2))\n",
    "print(get_multiply(1,2))"
   ]
  }
 ],
 "metadata": {
  "kernelspec": {
   "display_name": "Python 3",
   "language": "python",
   "name": "python3"
  },
  "language_info": {
   "codemirror_mode": {
    "name": "ipython",
    "version": 3
   },
   "file_extension": ".py",
   "mimetype": "text/x-python",
   "name": "python",
   "nbconvert_exporter": "python",
   "pygments_lexer": "ipython3",
   "version": "3.10.11"
  },
  "toc": {
   "base_numbering": 1,
   "nav_menu": {},
   "number_sections": true,
   "sideBar": true,
   "skip_h1_title": false,
   "title_cell": "Table of Contents",
   "title_sidebar": "Contents",
   "toc_cell": false,
   "toc_position": {},
   "toc_section_display": true,
   "toc_window_display": true
  }
 },
 "nbformat": 4,
 "nbformat_minor": 5
}
