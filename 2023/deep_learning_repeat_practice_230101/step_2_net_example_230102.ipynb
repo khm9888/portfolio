{
 "cells": [
  {
   "cell_type": "code",
   "execution_count": null,
   "metadata": {},
   "outputs": [],
   "source": []
  }
 ],
 "metadata": {
  "kernelspec": {
   "display_name": "Python 3",
   "language": "python",
   "name": "python3"
  },
  "language_info": {
   "name": "python",
   "version": "3.8.10 (tags/v3.8.10:3d8993a, May  3 2021, 11:48:03) [MSC v.1928 64 bit (AMD64)]"
  },
  "orig_nbformat": 4,
  "vscode": {
   "interpreter": {
    "hash": "195f7d4e7dfa36631d8b035cdcf7a97b6cf52e673cffc7538f8b1ac093d92219"
   }
  }
 },
 "nbformat": 4,
 "nbformat_minor": 2
}
